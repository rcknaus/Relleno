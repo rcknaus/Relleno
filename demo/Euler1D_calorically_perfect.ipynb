{
 "cells": [
  {
   "cell_type": "markdown",
   "metadata": {
    "deletable": true,
    "editable": true
   },
   "source": [
    "## Eigendecomposition, Entropy Analysis, and Roe Averaging of the 1D Euler Equations for a Calorically Perfect Gas\n",
    "\n",
    "A Demonstration of the Poblano Library\n",
    "\n",
    "Mike Hansen\n",
    "\n",
    "May, 2019"
   ]
  },
  {
   "cell_type": "markdown",
   "metadata": {
    "deletable": true,
    "editable": true
   },
   "source": [
    "### Eigendecomposition of the Flux Jacobian Matrix"
   ]
  },
  {
   "cell_type": "code",
   "execution_count": 1,
   "metadata": {
    "collapsed": true,
    "deletable": true,
    "editable": true
   },
   "outputs": [],
   "source": [
    "from poblano import PoblanoRing as Poblano\n",
    "%display latex"
   ]
  },
  {
   "cell_type": "markdown",
   "metadata": {
    "deletable": true,
    "editable": true
   },
   "source": [
    "First we build the `Poblano` object (named 'demo') with density, velocity, and temperature as primitive variables."
   ]
  },
  {
   "cell_type": "code",
   "execution_count": 2,
   "metadata": {
    "collapsed": false,
    "deletable": true,
    "editable": true
   },
   "outputs": [],
   "source": [
    "r = Poblano('demo', ['rho', 'u', 'T'])\n",
    "rho, u, T = r.vars\n",
    "\n",
    "v = vector([rho, u, T])"
   ]
  },
  {
   "cell_type": "markdown",
   "metadata": {
    "deletable": true,
    "editable": true
   },
   "source": [
    "Next we build some derived quantities such as pressure and the isochoric specific heat capacity.\n",
    "\n",
    "With the energy we are able to build the conserved state vector, `q`, and derive its Jacobian matrix with respect to the primitive variables."
   ]
  },
  {
   "cell_type": "code",
   "execution_count": 3,
   "metadata": {
    "collapsed": false,
    "deletable": true,
    "editable": true
   },
   "outputs": [
    {
     "data": {
      "text/html": [
       "<html><script type=\"math/tex; mode=display\">\\newcommand{\\Bold}[1]{\\mathbf{#1}}\\left(\\begin{array}{rrr}\n",
       "1 & 0 & 0 \\\\\n",
       "u & \\rho & 0 \\\\\n",
       "\\frac{1}{2} \\, u^{2} + \\frac{R T}{\\gamma - 1} & \\rho u & \\frac{R \\rho}{\\gamma - 1}\n",
       "\\end{array}\\right)</script></html>"
      ],
      "text/plain": [
       "[                        1                         0                         0]\n",
       "[                        u                       rho                         0]\n",
       "[1/2*u^2 + R*T/(gamma - 1)                     rho*u         R*rho/(gamma - 1)]"
      ]
     },
     "metadata": {},
     "output_type": "display_data"
    },
    {
     "data": {
      "text/html": [
       "<html><script type=\"math/tex; mode=display\">\\newcommand{\\Bold}[1]{\\mathbf{#1}}\\left(\\begin{array}{rrr}\n",
       "1 & 0 & 0 \\\\\n",
       "-\\frac{u}{\\rho} & \\frac{1}{\\rho} & 0 \\\\\n",
       "\\frac{{\\left(\\gamma - 1\\right)} u^{2} - 2 \\, R T}{2 \\, R \\rho} & -\\frac{{\\left(\\gamma - 1\\right)} u}{R \\rho} & \\frac{\\gamma - 1}{R \\rho}\n",
       "\\end{array}\\right)</script></html>"
      ],
      "text/plain": [
       "[                                    1                                     0                                     0]\n",
       "[                               -u/rho                                 1/rho                                     0]\n",
       "[1/2*((gamma - 1)*u^2 - 2*R*T)/(R*rho)                -(gamma - 1)*u/(R*rho)                   (gamma - 1)/(R*rho)]"
      ]
     },
     "metadata": {},
     "output_type": "display_data"
    }
   ],
   "source": [
    "var('R gamma')\n",
    "\n",
    "p = rho * R * T\n",
    "cv = R / (gamma - 1)\n",
    "e = cv * T\n",
    "E = e + u * u / 2\n",
    "\n",
    "q = vector([rho, rho * u, rho * E])\n",
    "\n",
    "qv = matrix(SR, 3, 3)\n",
    "for i in range(3):\n",
    "    for j in range(3):\n",
    "        qv[i, j] = r.diff(q[i], v[j])\n",
    "\n",
    "vq = qv.inverse().simplify_full()\n",
    "\n",
    "show(qv)\n",
    "show(vq)"
   ]
  },
  {
   "cell_type": "markdown",
   "metadata": {
    "deletable": true,
    "editable": true
   },
   "source": [
    "Next we build the flux vector and compute its Jacobian with respect to primitives."
   ]
  },
  {
   "cell_type": "code",
   "execution_count": 4,
   "metadata": {
    "collapsed": false,
    "deletable": true,
    "editable": true
   },
   "outputs": [
    {
     "data": {
      "text/html": [
       "<html><script type=\"math/tex; mode=display\">\\newcommand{\\Bold}[1]{\\mathbf{#1}}\\left(\\begin{array}{rrr}\n",
       "u & \\rho & 0 \\\\\n",
       "R T + u^{2} & 2 \\, \\rho u & R \\rho \\\\\n",
       "\\frac{1}{2} \\, {\\left(2 \\, R T + u^{2} + \\frac{2 \\, R T}{\\gamma - 1}\\right)} u & R T \\rho + \\rho u^{2} + \\frac{1}{2} \\, {\\left(u^{2} + \\frac{2 \\, R T}{\\gamma - 1}\\right)} \\rho & {\\left(R \\rho + \\frac{R \\rho}{\\gamma - 1}\\right)} u\n",
       "\\end{array}\\right)</script></html>"
      ],
      "text/plain": [
       "[                                                    u                                                   rho                                                     0]\n",
       "[                                            R*T + u^2                                               2*rho*u                                                 R*rho]\n",
       "[              1/2*(2*R*T + u^2 + 2*R*T/(gamma - 1))*u R*T*rho + rho*u^2 + 1/2*(u^2 + 2*R*T/(gamma - 1))*rho                         (R*rho + R*rho/(gamma - 1))*u]"
      ]
     },
     "metadata": {},
     "output_type": "display_data"
    }
   ],
   "source": [
    "f = vector([rho * u, rho * u * u + p, (rho * E + p) * u])\n",
    "\n",
    "fv = matrix(SR, 3, 3)\n",
    "for i in range(3):\n",
    "    for j in range(3):\n",
    "        fv[i, j] = r.diff(f[i], v[j])\n",
    "\n",
    "show(fv)"
   ]
  },
  {
   "cell_type": "markdown",
   "metadata": {
    "deletable": true,
    "editable": true
   },
   "source": [
    "Now we do a spectral decomposition of the flux Jacobian with respect to conserved variables ($f_q$) to obtain the wave speeds (and the speed of sound).\n",
    "\n",
    "We compute the eigenvalues by decomposing a matrix that is _similar_ to $f_q$, $\\mathcal{A}_v = v_q f_q q_v = v_q f_v$, because the algebra is far simpler."
   ]
  },
  {
   "cell_type": "code",
   "execution_count": 5,
   "metadata": {
    "collapsed": false,
    "deletable": true,
    "editable": true
   },
   "outputs": [
    {
     "data": {
      "text/html": [
       "<html><script type=\"math/tex; mode=display\">\\newcommand{\\Bold}[1]{\\mathbf{#1}}\\mathcal{A}_v = \\left(\\begin{array}{rrr}\n",
       "u & \\rho & 0 \\\\\n",
       "\\frac{R T}{\\rho} & u & R \\\\\n",
       "0 & T \\gamma - T & u\n",
       "\\end{array}\\right)</script></html>"
      ],
      "text/plain": [
       "\\mathcal{A}_v = [          u         rho           0]\n",
       "[    R*T/rho           u           R]\n",
       "[          0 T*gamma - T           u]"
      ]
     },
     "metadata": {},
     "output_type": "display_data"
    },
    {
     "data": {
      "text/html": [
       "<html><script type=\"math/tex; mode=display\">\\newcommand{\\Bold}[1]{\\mathbf{#1}}\\Lambda = \\left(\\begin{array}{rrr}\n",
       "u - \\sqrt{R T \\gamma} & 0 & 0 \\\\\n",
       "0 & u + \\sqrt{R T \\gamma} & 0 \\\\\n",
       "0 & 0 & u\n",
       "\\end{array}\\right)</script></html>"
      ],
      "text/plain": [
       "\\Lambda = [u - sqrt(R*T*gamma)                   0                   0]\n",
       "[                  0 u + sqrt(R*T*gamma)                   0]\n",
       "[                  0                   0                   u]"
      ]
     },
     "metadata": {},
     "output_type": "display_data"
    },
    {
     "data": {
      "text/html": [
       "<html><script type=\"math/tex; mode=display\">\\newcommand{\\Bold}[1]{\\mathbf{#1}}\\verb|speed|\\phantom{\\verb!x!}\\verb|of|\\phantom{\\verb!x!}\\verb|sound|\\phantom{\\verb!x!}\\verb|=| \\sqrt{R T \\gamma}</script></html>"
      ],
      "text/plain": [
       "'speed of sound = ' sqrt(R*T*gamma)"
      ]
     },
     "metadata": {},
     "output_type": "display_data"
    }
   ],
   "source": [
    "av = (vq * fv).simplify_full()\n",
    "show(LatexExpr('\\mathcal{A}_v ='), av)\n",
    "\n",
    "lam, sv = av.right_eigenmatrix()\n",
    "\n",
    "show(LatexExpr('\\Lambda ='), lam)\n",
    "\n",
    "sos = lam[1, 1] - u\n",
    "show('speed of sound = ', sos)"
   ]
  },
  {
   "cell_type": "markdown",
   "metadata": {
    "deletable": true,
    "editable": true
   },
   "source": [
    "Next we derive eigenvectors of $f_q$, which are useful for boundary conditions, stencil biasing, and dissipative fluxes. We compute eigenvectors of $\\mathcal{A}_v$ and use the similarity transform to obtain eigenvectors of $f_q$.\n",
    "\n",
    "We make a `PoblanoExpression` to hide the definition of `a`, the speed of sound."
   ]
  },
  {
   "cell_type": "code",
   "execution_count": 6,
   "metadata": {
    "collapsed": false,
    "deletable": true,
    "editable": true
   },
   "outputs": [
    {
     "data": {
      "text/html": [
       "<html><script type=\"math/tex; mode=display\">\\newcommand{\\Bold}[1]{\\mathbf{#1}}\\mathcal{A}_v = \\left(\\begin{array}{rrr}\n",
       "u & \\rho & 0 \\\\\n",
       "\\frac{R T}{\\rho} & u & R \\\\\n",
       "0 & T \\gamma - T & u\n",
       "\\end{array}\\right) \\verb|=| \\left(\\begin{array}{rrr}\n",
       "1 & 1 & 1 \\\\\n",
       "-\\frac{a}{\\rho} & \\frac{a}{\\rho} & 0 \\\\\n",
       "\\frac{T \\gamma - T}{\\rho} & \\frac{T \\gamma - T}{\\rho} & -\\frac{T}{\\rho}\n",
       "\\end{array}\\right) \\left(\\begin{array}{rrr}\n",
       "-a + u & 0 & 0 \\\\\n",
       "0 & a + u & 0 \\\\\n",
       "0 & 0 & u\n",
       "\\end{array}\\right) \\left(\\begin{array}{rrr}\n",
       "\\frac{1}{2 \\, \\gamma} & -\\frac{\\rho}{2 \\, a} & \\frac{\\rho}{2 \\, T \\gamma} \\\\\n",
       "\\frac{1}{2 \\, \\gamma} & \\frac{\\rho}{2 \\, a} & \\frac{\\rho}{2 \\, T \\gamma} \\\\\n",
       "\\frac{\\gamma - 1}{\\gamma} & 0 & -\\frac{\\rho}{T \\gamma}\n",
       "\\end{array}\\right)</script></html>"
      ],
      "text/plain": [
       "\\mathcal{A}_v = [          u         rho           0]\n",
       "[    R*T/rho           u           R]\n",
       "[          0 T*gamma - T           u] '=' [                1                 1                 1]\n",
       "[           -a/rho             a/rho                 0]\n",
       "[(T*gamma - T)/rho (T*gamma - T)/rho            -T/rho] [-a + u      0      0]\n",
       "[     0  a + u      0]\n",
       "[     0      0      u] [        1/2/gamma        -1/2*rho/a 1/2*rho/(T*gamma)]\n",
       "[        1/2/gamma         1/2*rho/a 1/2*rho/(T*gamma)]\n",
       "[(gamma - 1)/gamma                 0    -rho/(T*gamma)]"
      ]
     },
     "metadata": {},
     "output_type": "display_data"
    },
    {
     "data": {
      "text/html": [
       "<html><script type=\"math/tex; mode=display\">\\newcommand{\\Bold}[1]{\\mathbf{#1}}f_q = \\left(\\begin{array}{rrr}\n",
       "1 & 1 & 1 \\\\\n",
       "-a + u & a + u & u \\\\\n",
       "\\frac{2 \\, R T \\gamma + {\\left(\\gamma - 1\\right)} u^{2} - 2 \\, {\\left(a \\gamma - a\\right)} u}{2 \\, {\\left(\\gamma - 1\\right)}} & \\frac{2 \\, R T \\gamma + {\\left(\\gamma - 1\\right)} u^{2} + 2 \\, {\\left(a \\gamma - a\\right)} u}{2 \\, {\\left(\\gamma - 1\\right)}} & \\frac{1}{2} \\, u^{2}\n",
       "\\end{array}\\right) \\left(\\begin{array}{rrr}\n",
       "-a + u & 0 & 0 \\\\\n",
       "0 & a + u & 0 \\\\\n",
       "0 & 0 & u\n",
       "\\end{array}\\right) \\left(\\begin{array}{rrr}\n",
       "\\frac{2 \\, R T \\gamma u + {\\left(a \\gamma - a\\right)} u^{2}}{4 \\, R T a \\gamma} & -\\frac{R T \\gamma + {\\left(a \\gamma - a\\right)} u}{2 \\, R T a \\gamma} & \\frac{\\gamma - 1}{2 \\, R T \\gamma} \\\\\n",
       "-\\frac{2 \\, R T \\gamma u - {\\left(a \\gamma - a\\right)} u^{2}}{4 \\, R T a \\gamma} & \\frac{R T \\gamma - {\\left(a \\gamma - a\\right)} u}{2 \\, R T a \\gamma} & \\frac{\\gamma - 1}{2 \\, R T \\gamma} \\\\\n",
       "\\frac{2 \\, R T \\gamma - {\\left(\\gamma - 1\\right)} u^{2}}{2 \\, R T \\gamma} & \\frac{{\\left(\\gamma - 1\\right)} u}{R T \\gamma} & -\\frac{\\gamma - 1}{R T \\gamma}\n",
       "\\end{array}\\right)</script></html>"
      ],
      "text/plain": [
       "f_q = [                                                                  1                                                                   1                                                                   1]\n",
       "[                                                             -a + u                                                               a + u                                                                   u]\n",
       "[1/2*(2*R*T*gamma + (gamma - 1)*u^2 - 2*(a*gamma - a)*u)/(gamma - 1) 1/2*(2*R*T*gamma + (gamma - 1)*u^2 + 2*(a*gamma - a)*u)/(gamma - 1)                                                             1/2*u^2] [-a + u      0      0]\n",
       "[     0  a + u      0]\n",
       "[     0      0      u] [ 1/4*(2*R*T*gamma*u + (a*gamma - a)*u^2)/(R*T*a*gamma)       -1/2*(R*T*gamma + (a*gamma - a)*u)/(R*T*a*gamma)                            1/2*(gamma - 1)/(R*T*gamma)]\n",
       "[-1/4*(2*R*T*gamma*u - (a*gamma - a)*u^2)/(R*T*a*gamma)        1/2*(R*T*gamma - (a*gamma - a)*u)/(R*T*a*gamma)                            1/2*(gamma - 1)/(R*T*gamma)]\n",
       "[       1/2*(2*R*T*gamma - (gamma - 1)*u^2)/(R*T*gamma)                              (gamma - 1)*u/(R*T*gamma)                               -(gamma - 1)/(R*T*gamma)]"
      ]
     },
     "metadata": {},
     "output_type": "display_data"
    }
   ],
   "source": [
    "a = r.fxn('a', sos)\n",
    "\n",
    "lam = matrix(SR, lam.ncols(), lam.nrows(), lam.dict(), sparse=False)\n",
    "lam = lam.subs(R * T * gamma == a ** 2).canonicalize_radical().simplify_full()\n",
    "\n",
    "sv = sv.subs(R * T * gamma == a ** 2).canonicalize_radical().simplify_full()\n",
    "svi = sv.inverse().simplify_full()\n",
    "\n",
    "sq = (qv * sv).simplify_full()\n",
    "sqi = (svi * vq).simplify_full()\n",
    "\n",
    "show(LatexExpr('\\mathcal{A}_v ='), av, '=', sv, lam, svi)\n",
    "\n",
    "show(LatexExpr('f_q ='), sq, lam, sqi)"
   ]
  },
  {
   "cell_type": "markdown",
   "metadata": {
    "deletable": true,
    "editable": true
   },
   "source": [
    "### Derivation of a Mathematical Entropy Function\n",
    "\n",
    "The basis of entropy stability analysis is the entropy function and flux pair, $(\\mathcal{S}, \\mathcal{F})$.\n",
    "Many admissible forms exist for the 1D Euler equations.\n",
    "We choose the one based on the thermodynamic entropy, $s$, namely $\\mathcal{S} = -\\rho s$.\n",
    "The corresponding entropy flux is $\\mathcal{F} = u\\mathcal{S}$."
   ]
  },
  {
   "cell_type": "code",
   "execution_count": 7,
   "metadata": {
    "collapsed": false,
    "deletable": true,
    "editable": true
   },
   "outputs": [
    {
     "data": {
      "text/html": [
       "<html><script type=\"math/tex; mode=display\">\\newcommand{\\Bold}[1]{\\mathbf{#1}}\\left\\{{\\mathcal{S}} : {\\left(R \\log\\left(\\rho\\right) - \\frac{R \\log\\left(T\\right)}{\\gamma - 1}\\right)} \\rho\\right\\}</script></html>"
      ],
      "text/plain": [
       "{S: (R*log(rho) - R*log(T)/(gamma - 1))*rho}"
      ]
     },
     "metadata": {},
     "output_type": "display_data"
    },
    {
     "data": {
      "text/html": [
       "<html><script type=\"math/tex; mode=display\">\\newcommand{\\Bold}[1]{\\mathbf{#1}}\\left\\{{\\mathcal{F}} : {\\mathcal{S}} u\\right\\}</script></html>"
      ],
      "text/plain": [
       "{F: S*u}"
      ]
     },
     "metadata": {},
     "output_type": "display_data"
    }
   ],
   "source": [
    "s = R / (gamma - 1) * log(T) - R * log(rho)\n",
    "S = r.fxn('S', -rho * s, latex_name='\\\\mathcal{S}')\n",
    "F = r.fxn('F', S * u, latex_name='\\\\mathcal{F}')\n",
    "\n",
    "show(S.dict)\n",
    "show(F.dict)"
   ]
  },
  {
   "cell_type": "markdown",
   "metadata": {
    "deletable": true,
    "editable": true
   },
   "source": [
    "Now we derive the entropy variables, $w=\\mathcal{S}_q^\\mathsf{T} = (\\mathcal{S}_v v_q)^\\mathsf{T}$.\n",
    "\n",
    "Based on the entropy fluxes, functions, and variables, we compute the pair of the entropy potential $\\phi=w^\\mathsf{T}q - \\mathcal{S}$ and entropy potential flux $\\psi=w^\\mathsf{T}f - \\mathcal{F}$."
   ]
  },
  {
   "cell_type": "code",
   "execution_count": 8,
   "metadata": {
    "collapsed": false,
    "deletable": true,
    "editable": true
   },
   "outputs": [
    {
     "data": {
      "text/html": [
       "<html><script type=\"math/tex; mode=display\">\\newcommand{\\Bold}[1]{\\mathbf{#1}}w = \\left(R \\log\\left(\\rho\\right) + R - \\frac{R \\log\\left(T\\right)}{\\gamma - 1} - \\frac{{\\left(\\gamma - 1\\right)} u^{2} - 2 \\, R T}{2 \\, T {\\left(\\gamma - 1\\right)}},\\,\\frac{u}{T},\\,-\\frac{1}{T}\\right)</script></html>"
      ],
      "text/plain": [
       "w = (R*log(rho) + R - R*log(T)/(gamma - 1) - 1/2*((gamma - 1)*u^2 - 2*R*T)/(T*(gamma - 1)), u/T, -1/T)"
      ]
     },
     "metadata": {},
     "output_type": "display_data"
    },
    {
     "data": {
      "text/html": [
       "<html><script type=\"math/tex; mode=display\">\\newcommand{\\Bold}[1]{\\mathbf{#1}}\\phi = R \\rho</script></html>"
      ],
      "text/plain": [
       "\\phi = R*rho"
      ]
     },
     "metadata": {},
     "output_type": "display_data"
    },
    {
     "data": {
      "text/html": [
       "<html><script type=\"math/tex; mode=display\">\\newcommand{\\Bold}[1]{\\mathbf{#1}}\\psi = R \\rho u</script></html>"
      ],
      "text/plain": [
       "\\psi = R*rho*u"
      ]
     },
     "metadata": {},
     "output_type": "display_data"
    }
   ],
   "source": [
    "w = (vector([r.diff(S, rho), r.diff(S, u), r.diff(S, T)]) * vq).simplify()\n",
    "\n",
    "show(LatexExpr('w ='), w)\n",
    "\n",
    "phi = (w * q - S).subs(S.dict).simplify_full()\n",
    "psi = (w * f - F).subs(F.dict).subs(S.dict).simplify_full()\n",
    "\n",
    "show(LatexExpr('\\phi ='), phi)\n",
    "show(LatexExpr('\\psi ='), psi)"
   ]
  },
  {
   "cell_type": "markdown",
   "metadata": {
    "deletable": true,
    "editable": true
   },
   "source": [
    "To ensure that our entropy function is convex, we need to check that its Hessian matrix, $\\mathcal{S}_{qq}=w_q=w_vv_q$, is symmetric and positive-definite.\n",
    "\n",
    "Computing the matrix shows that it is indeed symmetric, although asking Sage to compute eigenvalues to show positive definiteness gives unwieldly results. Instead, we identify the diagonalization $\\mathcal{D}=q_v^\\mathsf{T}\\mathcal{S}_{qq} q_v=q_v^\\mathsf{T}w_q q_v=q_v^\\mathsf{T}w_v$.\n",
    "\n",
    "The existence of $\\mathcal{S}_{qq}=ADA^\\mathsf{T}$ with $A=v_q^\\mathsf{T}$, combined with the symmetry of $\\mathcal{S}_{qq}$ and Sylvester's law of inertia, shows that the positivity of $\\mathcal{D}$ is required for positive definiteness of $\\mathcal{S}_{qq}$.\n",
    "\n",
    "As seen below, convexity of the entropy function are strict positivity of density and temperature.\n",
    "Note that the entropy, due to $log(T)$ and $log(\\rho)$, is not even well-defined if $\\rho, T\\leq0$."
   ]
  },
  {
   "cell_type": "code",
   "execution_count": 9,
   "metadata": {
    "collapsed": false,
    "deletable": true,
    "editable": true
   },
   "outputs": [
    {
     "data": {
      "text/html": [
       "<html><script type=\"math/tex; mode=display\">\\newcommand{\\Bold}[1]{\\mathbf{#1}}\\mathcal{S}_{qq} = \\left(\\begin{array}{rrr}\n",
       "\\frac{4 \\, R^{2} T^{2} \\gamma + {\\left(\\gamma^{2} - 2 \\, \\gamma + 1\\right)} u^{4}}{4 \\, {\\left(R T^{2} \\gamma - R T^{2}\\right)} \\rho} & -\\frac{{\\left(\\gamma - 1\\right)} u^{3}}{2 \\, R T^{2} \\rho} & \\frac{{\\left(\\gamma - 1\\right)} u^{2} - 2 \\, R T}{2 \\, R T^{2} \\rho} \\\\\n",
       "-\\frac{{\\left(\\gamma - 1\\right)} u^{3}}{2 \\, R T^{2} \\rho} & \\frac{{\\left(\\gamma - 1\\right)} u^{2} + R T}{R T^{2} \\rho} & -\\frac{{\\left(\\gamma - 1\\right)} u}{R T^{2} \\rho} \\\\\n",
       "\\frac{{\\left(\\gamma - 1\\right)} u^{2} - 2 \\, R T}{2 \\, R T^{2} \\rho} & -\\frac{{\\left(\\gamma - 1\\right)} u}{R T^{2} \\rho} & \\frac{\\gamma - 1}{R T^{2} \\rho}\n",
       "\\end{array}\\right)</script></html>"
      ],
      "text/plain": [
       "\\mathcal{S}_{qq} = [1/4*(4*R^2*T^2*gamma + (gamma^2 - 2*gamma + 1)*u^4)/((R*T^2*gamma - R*T^2)*rho)                                                -1/2*(gamma - 1)*u^3/(R*T^2*rho)                                       1/2*((gamma - 1)*u^2 - 2*R*T)/(R*T^2*rho)]\n",
       "[                                               -1/2*(gamma - 1)*u^3/(R*T^2*rho)                                             ((gamma - 1)*u^2 + R*T)/(R*T^2*rho)                                                      -(gamma - 1)*u/(R*T^2*rho)]\n",
       "[                                      1/2*((gamma - 1)*u^2 - 2*R*T)/(R*T^2*rho)                                                      -(gamma - 1)*u/(R*T^2*rho)                                                         (gamma - 1)/(R*T^2*rho)]"
      ]
     },
     "metadata": {},
     "output_type": "display_data"
    },
    {
     "data": {
      "text/html": [
       "<html><script type=\"math/tex; mode=display\">\\newcommand{\\Bold}[1]{\\mathbf{#1}}\\mathcal{D} = \\left(\\begin{array}{rrr}\n",
       "\\frac{R}{\\rho} & 0 & 0 \\\\\n",
       "0 & \\frac{\\rho}{T} & 0 \\\\\n",
       "0 & 0 & \\frac{R \\rho}{T^{2} \\gamma - T^{2}}\n",
       "\\end{array}\\right)</script></html>"
      ],
      "text/plain": [
       "\\mathcal{D} = [                  R/rho                       0                       0]\n",
       "[                      0                   rho/T                       0]\n",
       "[                      0                       0 R*rho/(T^2*gamma - T^2)]"
      ]
     },
     "metadata": {},
     "output_type": "display_data"
    },
    {
     "data": {
      "text/html": [
       "<html><script type=\"math/tex; mode=display\">\\newcommand{\\Bold}[1]{\\mathbf{#1}}\\verb|Conditions|\\phantom{\\verb!x!}\\verb|for|\\phantom{\\verb!x!}\\verb|convexity|\\phantom{\\verb!x!}\\verb|of|\\phantom{\\verb!x!}\\verb|the|\\phantom{\\verb!x!}\\verb|entropy|\\phantom{\\verb!x!}\\verb|function:|</script></html>"
      ],
      "text/plain": [
       "'Conditions for convexity of the entropy function:'"
      ]
     },
     "metadata": {},
     "output_type": "display_data"
    },
    {
     "data": {
      "text/html": [
       "<html><script type=\"math/tex; mode=display\">\\newcommand{\\Bold}[1]{\\mathbf{#1}}\\frac{R}{\\rho} > 0</script></html>"
      ],
      "text/plain": [
       "R/rho > 0"
      ]
     },
     "metadata": {},
     "output_type": "display_data"
    },
    {
     "data": {
      "text/html": [
       "<html><script type=\"math/tex; mode=display\">\\newcommand{\\Bold}[1]{\\mathbf{#1}}\\frac{\\rho}{T} > 0</script></html>"
      ],
      "text/plain": [
       "rho/T > 0"
      ]
     },
     "metadata": {},
     "output_type": "display_data"
    },
    {
     "data": {
      "text/html": [
       "<html><script type=\"math/tex; mode=display\">\\newcommand{\\Bold}[1]{\\mathbf{#1}}\\frac{R \\rho}{T^{2} \\gamma - T^{2}} > 0</script></html>"
      ],
      "text/plain": [
       "R*rho/(T^2*gamma - T^2) > 0"
      ]
     },
     "metadata": {},
     "output_type": "display_data"
    }
   ],
   "source": [
    "wv = matrix(SR, 3, 3)\n",
    "for i in range(3):\n",
    "    for j in range(3):\n",
    "        wv[i, j] = r.diff(w[i], v[j])\n",
    "\n",
    "wq = (wv * vq).simplify_full()\n",
    "\n",
    "show(LatexExpr('\\mathcal{S}_{qq} ='), wq)\n",
    "D = (qv.T * wv).simplify_full()\n",
    "show(LatexExpr('\\mathcal{D} ='), D)\n",
    "\n",
    "show('Conditions for convexity of the entropy function:')\n",
    "for i in range(3):\n",
    "    show(D[i, i] > 0)"
   ]
  },
  {
   "cell_type": "markdown",
   "metadata": {
    "deletable": true,
    "editable": true
   },
   "source": [
    "### Derivation of Entropy-Conservative Flux Functions\n",
    "\n",
    "Above we proved that $\\mathcal{S}$ is an entropy function for the one-dimensional Euler equations.\n",
    "\n",
    "Now we derive two-point numerical flux functions which exactly conserve the entropy, by satisfying the local equality $(f^S)^\\mathsf{T}\\Delta w = \\Delta \\psi$, where $\\Delta$ is the interface jump operator, $\\Delta a = a_r - a_\\ell$. Flux functions that satisfy this property are the basis of provably entropy stable numerical schemes.\n",
    "\n",
    "We satisfy this identity by expanding the jumps of $w$ and $\\psi$ with respect to a derivation vector of auxiliary $z$.\n",
    "The resultant flux will depend heavily upon the choice of auxiliary variables $z$.\n",
    "We first choose $z=v$ for convenience.\n",
    "\n",
    "Given the expansions $\\Delta w = H\\Delta z$ and $\\Delta \\psi = g^\\mathsf{T}\\Delta z$, the local constraint for entropy conservation yields the flux $f^S = (H^\\mathsf{T})^{-1}g$.\n",
    "\n",
    "*We now utilize the highlight of Poblano: automatic jump expansion.*"
   ]
  },
  {
   "cell_type": "code",
   "execution_count": 10,
   "metadata": {
    "collapsed": false,
    "deletable": true,
    "editable": true
   },
   "outputs": [
    {
     "data": {
      "text/html": [
       "<html><script type=\"math/tex; mode=display\">\\newcommand{\\Bold}[1]{\\mathbf{#1}}R \\log\\left(\\rho\\right) + R - \\frac{R \\log\\left(T\\right)}{\\gamma - 1} - \\frac{{\\left(\\gamma - 1\\right)} u^{2} - 2 \\, R T}{2 \\, T {\\left(\\gamma - 1\\right)}}</script></html>"
      ],
      "text/plain": [
       "R*log(rho) + R - R*log(T)/(gamma - 1) - 1/2*((gamma - 1)*u^2 - 2*R*T)/(T*(gamma - 1))"
      ]
     },
     "metadata": {},
     "output_type": "display_data"
    }
   ],
   "source": [
    "show(w[0])"
   ]
  },
  {
   "cell_type": "code",
   "execution_count": 11,
   "metadata": {
    "collapsed": false,
    "deletable": true,
    "editable": true
   },
   "outputs": [
    {
     "data": {
      "text/html": [
       "<html><script type=\"math/tex; mode=display\">\\newcommand{\\Bold}[1]{\\mathbf{#1}}g = \\left(R {\\overline{ u }\\,},\\,R {\\overline{ \\rho }\\,},\\,0\\right)</script></html>"
      ],
      "text/plain": [
       "g = (R*demo_xi_9, R*demo_xi_3, 0)"
      ]
     },
     "metadata": {},
     "output_type": "display_data"
    },
    {
     "data": {
      "text/html": [
       "<html><script type=\"math/tex; mode=display\">\\newcommand{\\Bold}[1]{\\mathbf{#1}}H = \\left(\\begin{array}{rrr}\n",
       "\\frac{R}{{\\widehat{ \\rho }\\,}} & -{\\overline{ \\frac{1}{T} }\\,} {\\overline{ u }\\,} & \\frac{R {\\overline{ \\frac{1}{T} }\\,}}{\\gamma - 1} - \\frac{{\\overline{ {\\left(\\gamma - 1\\right)} u^{2} - 2 \\, R T }\\,}}{2 \\, {\\widetilde{ T }\\,} {\\left(\\gamma - 1\\right)}} - \\frac{R}{{\\widehat{ T }\\,} {\\left(\\gamma - 1\\right)}} \\\\\n",
       "0 & {\\overline{ \\frac{1}{T} }\\,} & \\frac{{\\overline{ u }\\,}}{{\\widetilde{ T }\\,}} \\\\\n",
       "0 & 0 & -\\frac{1}{{\\widetilde{ T }\\,}}\n",
       "\\end{array}\\right)</script></html>"
      ],
      "text/plain": [
       "H = [                                                                                   R/demo_xi_5                                                                          -demo_xi_12*demo_xi_9 R*demo_xi_12/(gamma - 1) - 1/2*demo_xi_11/(demo_xi_14*(gamma - 1)) - R/(demo_xi_7*(gamma - 1))]\n",
       "[                                                                                             0                                                                                     demo_xi_12                                                                           demo_xi_9/demo_xi_14]\n",
       "[                                                                                             0                                                                                              0                                                                                  -1/demo_xi_14]"
      ]
     },
     "metadata": {},
     "output_type": "display_data"
    },
    {
     "data": {
      "text/html": [
       "<html><script type=\"math/tex; mode=display\">\\newcommand{\\Bold}[1]{\\mathbf{#1}}f^S = \\left({\\widehat{ \\rho }\\,} {\\overline{ u }\\,},\\,{\\widehat{ \\rho }\\,} {\\overline{ u }\\,}^{2} + \\frac{R {\\overline{ \\rho }\\,}}{{\\overline{ \\frac{1}{T} }\\,}},\\,\\frac{1}{2} \\, R {\\widetilde{ T }\\,} {\\overline{ u }\\,} {\\left(\\frac{2 \\, {\\widehat{ \\rho }\\,} {\\overline{ u }\\,}^{2}}{R {\\widetilde{ T }\\,}} + \\frac{{\\widehat{ \\rho }\\,} {\\left(\\frac{2 \\, R {\\overline{ \\frac{1}{T} }\\,}}{\\gamma - 1} - \\frac{{\\overline{ {\\left(\\gamma - 1\\right)} u^{2} - 2 \\, R T }\\,}}{{\\widetilde{ T }\\,} {\\left(\\gamma - 1\\right)}} - \\frac{2 \\, R}{{\\widehat{ T }\\,} {\\left(\\gamma - 1\\right)}}\\right)}}{R}\\right)} + \\frac{R {\\overline{ \\rho }\\,} {\\overline{ u }\\,}}{{\\overline{ \\frac{1}{T} }\\,}}\\right)</script></html>"
      ],
      "text/plain": [
       "f^S = (demo_xi_5*demo_xi_9, demo_xi_5*demo_xi_9^2 + R*demo_xi_3/demo_xi_12, 1/2*R*demo_xi_14*demo_xi_9*(2*demo_xi_5*demo_xi_9^2/(R*demo_xi_14) + demo_xi_5*(2*R*demo_xi_12/(gamma - 1) - demo_xi_11/(demo_xi_14*(gamma - 1)) - 2*R/(demo_xi_7*(gamma - 1)))/R) + R*demo_xi_3*demo_xi_9/demo_xi_12)"
      ]
     },
     "metadata": {},
     "output_type": "display_data"
    }
   ],
   "source": [
    "g = vector(SR, 3)\n",
    "H = matrix(SR, 3, 3)\n",
    "\n",
    "for i in range(3):\n",
    "    g[i] = r.jump_coeff(psi, v[i])\n",
    "    for j in range(3):\n",
    "        H[i, j] = r.jump_coeff(w[i], v[j])\n",
    "        \n",
    "show(LatexExpr('g ='), g)\n",
    "show(LatexExpr('H ='), H)\n",
    "fS = (H.T.inverse() * g).simplify()\n",
    "show(LatexExpr('f^S ='), fS)"
   ]
  },
  {
   "cell_type": "markdown",
   "metadata": {
    "collapsed": false,
    "deletable": true,
    "editable": true
   },
   "source": [
    "Now we make a very important check: we ensure that when the 'left' and 'right' states collapse the numerical flux function reduces to the physical flux - this is the _consistency_ of the numerical flux function.\n",
    "\n",
    "Poblano makes it easy to check the behavior, with the `subs_for_consistency()` method."
   ]
  },
  {
   "cell_type": "code",
   "execution_count": 12,
   "metadata": {
    "collapsed": false,
    "deletable": true,
    "editable": true
   },
   "outputs": [
    {
     "data": {
      "text/html": [
       "<html><script type=\"math/tex; mode=display\">\\newcommand{\\Bold}[1]{\\mathbf{#1}}\\lim_{q_\\ell\\to q_r}f^S_0 = \\rho u \\stackrel{?}{=} \\rho u = f_{\\mathrm{phys}, 0 } \\quad \\text{ True }</script></html>"
      ],
      "text/plain": [
       "\\lim_{q_\\ell\\to q_r}f^S_0 = \\rho u \\stackrel{?}{=} \\rho u = f_{\\mathrm{phys}, 0 } \\quad \\text{ True }"
      ]
     },
     "metadata": {},
     "output_type": "display_data"
    },
    {
     "data": {
      "text/html": [
       "<html><script type=\"math/tex; mode=display\">\\newcommand{\\Bold}[1]{\\mathbf{#1}}\\lim_{q_\\ell\\to q_r}f^S_1 = R T \\rho + \\rho u^{2} \\stackrel{?}{=} R T \\rho + \\rho u^{2} = f_{\\mathrm{phys}, 1 } \\quad \\text{ True }</script></html>"
      ],
      "text/plain": [
       "\\lim_{q_\\ell\\to q_r}f^S_1 = R T \\rho + \\rho u^{2} \\stackrel{?}{=} R T \\rho + \\rho u^{2} = f_{\\mathrm{phys}, 1 } \\quad \\text{ True }"
      ]
     },
     "metadata": {},
     "output_type": "display_data"
    },
    {
     "data": {
      "text/html": [
       "<html><script type=\"math/tex; mode=display\">\\newcommand{\\Bold}[1]{\\mathbf{#1}}\\lim_{q_\\ell\\to q_r}f^S_2 = \\frac{2 \\, R T \\gamma \\rho u + {\\left(\\gamma - 1\\right)} \\rho u^{3}}{2 \\, {\\left(\\gamma - 1\\right)}} \\stackrel{?}{=} \\frac{2 \\, R T \\gamma \\rho u + {\\left(\\gamma - 1\\right)} \\rho u^{3}}{2 \\, {\\left(\\gamma - 1\\right)}} = f_{\\mathrm{phys}, 2 } \\quad \\text{ True }</script></html>"
      ],
      "text/plain": [
       "\\lim_{q_\\ell\\to q_r}f^S_2 = \\frac{2 \\, R T \\gamma \\rho u + {\\left(\\gamma - 1\\right)} \\rho u^{3}}{2 \\, {\\left(\\gamma - 1\\right)}} \\stackrel{?}{=} \\frac{2 \\, R T \\gamma \\rho u + {\\left(\\gamma - 1\\right)} \\rho u^{3}}{2 \\, {\\left(\\gamma - 1\\right)}} = f_{\\mathrm{phys}, 2 } \\quad \\text{ True }"
      ]
     },
     "metadata": {},
     "output_type": "display_data"
    }
   ],
   "source": [
    "for i in range(3):\n",
    "    fSi_limit = r.subs_for_consistency(fS[i]).simplify_full()\n",
    "    fphysi = f[i].simplify_full()\n",
    "    show(LatexExpr('\\lim_{q_\\ell\\\\to q_r}f^S_' + str(i) + ' = ' + latex(fSi_limit) + '\\\\stackrel{?}{=}' + latex(fphysi) + ' = f_{\\mathrm{phys},' + str(i) + '} \\quad \\\\text{' + str(bool((fphysi - fSi_limit)==0)) + '}'))"
   ]
  },
  {
   "cell_type": "markdown",
   "metadata": {
    "collapsed": false,
    "deletable": true,
    "editable": true
   },
   "source": [
    "Above we showed that an entropy-conservative numerical flux function can be derived with the primitive variables used to expand the jumps, and that the resultant flux is consistent.\n",
    "\n",
    "Next we use auxiliary variables of $z=(\\rho,u,Z)$ where $Z=1/T$, motivated by the prevalance of the inverse temperature in the flux function above (due to the entropy variables including $1/T$).\n",
    "\n",
    "To derive a flux function with this modified vector, we build a new `Poblano` object with the new auxiliary variables, substitute $T=1/Z$ into the expressions we need, and then compute $f^S$ as above. We show that the flux function is consistent. Note that this flux is far simpler than the one derived with temperature (instead of the inverse temperature) in the parameter vector."
   ]
  },
  {
   "cell_type": "code",
   "execution_count": 13,
   "metadata": {
    "collapsed": false,
    "deletable": true,
    "editable": true
   },
   "outputs": [
    {
     "data": {
      "text/html": [
       "<html><script type=\"math/tex; mode=display\">\\newcommand{\\Bold}[1]{\\mathbf{#1}}\\left(-\\frac{Z \\gamma u^{2}}{2 \\, {\\left(\\gamma - 1\\right)}} + \\frac{Z u^{2}}{2 \\, {\\left(\\gamma - 1\\right)}} + R \\log\\left(\\rho\\right) + R + \\frac{R \\log\\left(Z\\right)}{\\gamma - 1} + \\frac{R}{\\gamma - 1},\\,Z u,\\,-Z\\right)</script></html>"
      ],
      "text/plain": [
       "(-1/2*Z*gamma*u^2/(gamma - 1) + 1/2*Z*u^2/(gamma - 1) + R*log(rho) + R + R*log(Z)/(gamma - 1) + R/(gamma - 1), Z*u, -Z)"
      ]
     },
     "metadata": {},
     "output_type": "display_data"
    },
    {
     "data": {
      "text/html": [
       "<html><script type=\"math/tex; mode=display\">\\newcommand{\\Bold}[1]{\\mathbf{#1}}R \\rho u</script></html>"
      ],
      "text/plain": [
       "R*rho*u"
      ]
     },
     "metadata": {},
     "output_type": "display_data"
    },
    {
     "data": {
      "text/html": [
       "<html><script type=\"math/tex; mode=display\">\\newcommand{\\Bold}[1]{\\mathbf{#1}}g = \\left(R {\\overline{ u }\\,},\\,R {\\overline{ \\rho }\\,},\\,0\\right)</script></html>"
      ],
      "text/plain": [
       "g = (R*with_invT_xi_2, R*with_invT_xi_1, 0)"
      ]
     },
     "metadata": {},
     "output_type": "display_data"
    },
    {
     "data": {
      "text/html": [
       "<html><script type=\"math/tex; mode=display\">\\newcommand{\\Bold}[1]{\\mathbf{#1}}H = \\left(\\begin{array}{rrr}\n",
       "\\frac{R}{{\\widehat{ \\rho }\\,}} & -{\\overline{ u }\\,} {\\overline{ Z }\\,} & -\\frac{{\\left(\\gamma - 1\\right)} {\\overline{ u^{2} }\\,} {\\widehat{ Z }\\,} - 2 \\, R}{2 \\, {\\left(\\gamma - 1\\right)} {\\widehat{ Z }\\,}} \\\\\n",
       "0 & {\\overline{ Z }\\,} & {\\overline{ u }\\,} \\\\\n",
       "0 & 0 & -1\n",
       "\\end{array}\\right)</script></html>"
      ],
      "text/plain": [
       "H = [                                                                   R/with_invT_xi_6                                                      -with_invT_xi_2*with_invT_xi_3 -1/2*((gamma - 1)*with_invT_xi_4*with_invT_xi_8 - 2*R)/((gamma - 1)*with_invT_xi_8)]\n",
       "[                                                                                  0                                                                      with_invT_xi_3                                                                      with_invT_xi_2]\n",
       "[                                                                                  0                                                                                   0                                                                                  -1]"
      ]
     },
     "metadata": {},
     "output_type": "display_data"
    },
    {
     "data": {
      "text/html": [
       "<html><script type=\"math/tex; mode=display\">\\newcommand{\\Bold}[1]{\\mathbf{#1}}f^S = \\left({\\overline{ u }\\,} {\\widehat{ \\rho }\\,},\\,{\\overline{ u }\\,}^{2} {\\widehat{ \\rho }\\,} + \\frac{R {\\overline{ \\rho }\\,}}{{\\overline{ Z }\\,}},\\,\\frac{1}{2} \\, {\\left(\\frac{2 \\, {\\overline{ u }\\,}^{2} {\\widehat{ \\rho }\\,}}{R} - \\frac{{\\left({\\left(\\gamma - 1\\right)} {\\overline{ u^{2} }\\,} {\\widehat{ Z }\\,} - 2 \\, R\\right)} {\\widehat{ \\rho }\\,}}{R {\\left(\\gamma - 1\\right)} {\\widehat{ Z }\\,}}\\right)} R {\\overline{ u }\\,} + \\frac{R {\\overline{ \\rho }\\,} {\\overline{ u }\\,}}{{\\overline{ Z }\\,}}\\right)</script></html>"
      ],
      "text/plain": [
       "f^S = (with_invT_xi_2*with_invT_xi_6, with_invT_xi_2^2*with_invT_xi_6 + R*with_invT_xi_1/with_invT_xi_3, 1/2*(2*with_invT_xi_2^2*with_invT_xi_6/R - ((gamma - 1)*with_invT_xi_4*with_invT_xi_8 - 2*R)*with_invT_xi_6/(R*(gamma - 1)*with_invT_xi_8))*R*with_invT_xi_2 + R*with_invT_xi_1*with_invT_xi_2/with_invT_xi_3)"
      ]
     },
     "metadata": {},
     "output_type": "display_data"
    }
   ],
   "source": [
    "rz = Poblano('with_invT', [rho, u, 'Z'])\n",
    "Z = rz.vars[2]\n",
    "wz = w.subs(T = 1 / Z)\n",
    "for i in range(3):\n",
    "    wz[i] = wz[i].expand().log_expand()\n",
    "psiz = psi.subs(T = 1 / Z).simplify_full()\n",
    "show(wz)\n",
    "show(psiz)\n",
    "\n",
    "gz = vector(SR, 3)\n",
    "Hz = matrix(SR, 3, 3)\n",
    "\n",
    "for i in range(3):\n",
    "    gz[i] = rz.jump_coeff(psiz, rz.vars[i])\n",
    "    for j in range(3):\n",
    "        Hz[i, j] = rz.jump_coeff(wz[i], rz.vars[j]).simplify_full()\n",
    "fSz = (Hz.T.inverse() * gz).simplify()\n",
    "\n",
    "show(LatexExpr('g ='), gz)\n",
    "show(LatexExpr('H ='), Hz)\n",
    "show(LatexExpr('f^S ='), fSz)"
   ]
  },
  {
   "cell_type": "code",
   "execution_count": 14,
   "metadata": {
    "collapsed": false,
    "deletable": true,
    "editable": true
   },
   "outputs": [
    {
     "data": {
      "text/html": [
       "<html><script type=\"math/tex; mode=display\">\\newcommand{\\Bold}[1]{\\mathbf{#1}}\\lim_{q_\\ell\\to q_r}f^S_0 = \\rho u \\stackrel{?}{=} \\rho u = f_{\\mathrm{phys}, 0 } \\quad \\text{ True }</script></html>"
      ],
      "text/plain": [
       "\\lim_{q_\\ell\\to q_r}f^S_0 = \\rho u \\stackrel{?}{=} \\rho u = f_{\\mathrm{phys}, 0 } \\quad \\text{ True }"
      ]
     },
     "metadata": {},
     "output_type": "display_data"
    },
    {
     "data": {
      "text/html": [
       "<html><script type=\"math/tex; mode=display\">\\newcommand{\\Bold}[1]{\\mathbf{#1}}\\lim_{q_\\ell\\to q_r}f^S_1 = R T \\rho + \\rho u^{2} \\stackrel{?}{=} R T \\rho + \\rho u^{2} = f_{\\mathrm{phys}, 1 } \\quad \\text{ True }</script></html>"
      ],
      "text/plain": [
       "\\lim_{q_\\ell\\to q_r}f^S_1 = R T \\rho + \\rho u^{2} \\stackrel{?}{=} R T \\rho + \\rho u^{2} = f_{\\mathrm{phys}, 1 } \\quad \\text{ True }"
      ]
     },
     "metadata": {},
     "output_type": "display_data"
    },
    {
     "data": {
      "text/html": [
       "<html><script type=\"math/tex; mode=display\">\\newcommand{\\Bold}[1]{\\mathbf{#1}}\\lim_{q_\\ell\\to q_r}f^S_2 = \\frac{2 \\, R T \\gamma \\rho u + {\\left(\\gamma - 1\\right)} \\rho u^{3}}{2 \\, {\\left(\\gamma - 1\\right)}} \\stackrel{?}{=} \\frac{2 \\, R T \\gamma \\rho u + {\\left(\\gamma - 1\\right)} \\rho u^{3}}{2 \\, {\\left(\\gamma - 1\\right)}} = f_{\\mathrm{phys}, 2 } \\quad \\text{ True }</script></html>"
      ],
      "text/plain": [
       "\\lim_{q_\\ell\\to q_r}f^S_2 = \\frac{2 \\, R T \\gamma \\rho u + {\\left(\\gamma - 1\\right)} \\rho u^{3}}{2 \\, {\\left(\\gamma - 1\\right)}} \\stackrel{?}{=} \\frac{2 \\, R T \\gamma \\rho u + {\\left(\\gamma - 1\\right)} \\rho u^{3}}{2 \\, {\\left(\\gamma - 1\\right)}} = f_{\\mathrm{phys}, 2 } \\quad \\text{ True }"
      ]
     },
     "metadata": {},
     "output_type": "display_data"
    }
   ],
   "source": [
    "for i in range(3):\n",
    "    fSi_limit = rz.subs_for_consistency(fSz[i]).subs(Z=1/T).simplify_full()\n",
    "    fphysi = f[i].simplify_full()\n",
    "    show(LatexExpr('\\lim_{q_\\ell\\\\to q_r}f^S_' + str(i) + ' = ' + latex(fSi_limit) + '\\\\stackrel{?}{=}' + latex(fphysi) + ' = f_{\\mathrm{phys},' + str(i) + '} \\quad \\\\text{' + str(bool((fphysi - fSi_limit)==0)) + '}'))"
   ]
  },
  {
   "cell_type": "markdown",
   "metadata": {
    "collapsed": false,
    "deletable": true,
    "editable": true
   },
   "source": [
    "### Determining the Roe Average Matrix\n",
    "\n",
    "The final part of this demonstration for the 1D Euler equations is computation of the 'Roe average' matrix.\n",
    "This matrix $\\mathcal{A}$ comes from the idea of locally replacing the nonlinear Euler equations, $q_t + f_x = 0$, with a linear approximation, $q_t + \\mathcal{A}q_x = 0$.\n",
    "\n",
    "The matrix $\\mathcal{A}$ is a two-point approximation of $f_q$ and satisfies, for _any_ $q_\\ell$ and $q_r$, $\\Delta f = \\mathcal{A}\\Delta q$. Furthermore it must be consistent, $\\lim_{q_\\ell \\to q_r}\\mathcal{A}=f_q$.\n",
    "\n",
    "To obtain $\\mathcal{A}$ we perform a jump expansion as above, $\\mathcal{C}\\Delta z = \\mathcal{A}\\mathcal{B}\\Delta z$, where $\\Delta f = \\mathcal{C}\\Delta z$ and $\\Delta q = \\mathcal{B}\\Delta z$. This yields $\\mathcal{A} = \\mathcal{C}\\mathcal{B}^{-1}$. With Poblano's jump expansion capabilities, we can compute this in straightforward fashion. First we show this result with $z=v$, and afterwards we show $z$ with inverse temperature, and then with the original parameter vector that Roe used. It's clear that Roe's parameter vector yields the cleanest expression for $\\mathcal{A}$."
   ]
  },
  {
   "cell_type": "code",
   "execution_count": 15,
   "metadata": {
    "collapsed": false,
    "deletable": true,
    "editable": true
   },
   "outputs": [
    {
     "data": {
      "text/html": [
       "<html><script type=\"math/tex; mode=display\">\\newcommand{\\Bold}[1]{\\mathbf{#1}}\\mathcal{B} = \\left(\\begin{array}{rrr}\n",
       "1 & 0 & 0 \\\\\n",
       "{\\overline{ u }\\,} & {\\overline{ \\rho }\\,} & 0 \\\\\n",
       "\\frac{1}{2} \\, {\\overline{ u^{2} + \\frac{2 \\, R T}{\\gamma - 1} }\\,} & {\\overline{ \\rho }\\,} {\\overline{ u }\\,} & \\frac{R {\\overline{ \\rho }\\,}}{\\gamma - 1}\n",
       "\\end{array}\\right)</script></html>"
      ],
      "text/plain": [
       "\\mathcal{B} = [                      1                       0                       0]\n",
       "[              demo_xi_9               demo_xi_3                       0]\n",
       "[         1/2*demo_xi_16     demo_xi_3*demo_xi_9 R*demo_xi_3/(gamma - 1)]"
      ]
     },
     "metadata": {},
     "output_type": "display_data"
    },
    {
     "data": {
      "text/html": [
       "<html><script type=\"math/tex; mode=display\">\\newcommand{\\Bold}[1]{\\mathbf{#1}}\\mathcal{C} = \\left(\\begin{array}{rrr}\n",
       "{\\overline{ u }\\,} & {\\overline{ \\rho }\\,} & 0 \\\\\n",
       "R {\\overline{ T }\\,} + {\\overline{ u^{2} }\\,} & 2 \\, {\\overline{ \\rho }\\,} {\\overline{ u }\\,} & R {\\overline{ \\rho }\\,} \\\\\n",
       "\\frac{1}{2} \\, {\\left(2 \\, R {\\overline{ T }\\,} + {\\overline{ u^{2} + \\frac{2 \\, R T}{\\gamma - 1} }\\,}\\right)} {\\overline{ u }\\,} & {\\overline{ \\rho }\\,} {\\overline{ u }\\,}^{2} + \\frac{1}{2} \\, {\\overline{ 2 \\, R T \\rho + {\\left(u^{2} + \\frac{2 \\, R T}{\\gamma - 1}\\right)} \\rho }\\,} & {\\left(R {\\overline{ \\rho }\\,} + \\frac{R {\\overline{ \\rho }\\,}}{\\gamma - 1}\\right)} {\\overline{ u }\\,}\n",
       "\\end{array}\\right)</script></html>"
      ],
      "text/plain": [
       "\\mathcal{C} = [                                        demo_xi_9                                         demo_xi_3                                                 0]\n",
       "[                         R*demo_xi_1 + demo_xi_13                             2*demo_xi_3*demo_xi_9                                       R*demo_xi_3]\n",
       "[       1/2*(2*R*demo_xi_1 + demo_xi_16)*demo_xi_9            demo_xi_3*demo_xi_9^2 + 1/2*demo_xi_17 (R*demo_xi_3 + R*demo_xi_3/(gamma - 1))*demo_xi_9]"
      ]
     },
     "metadata": {},
     "output_type": "display_data"
    },
    {
     "data": {
      "text/html": [
       "<html><script type=\"math/tex; mode=display\">\\newcommand{\\Bold}[1]{\\mathbf{#1}}\\mathcal{A} = \\left(\\begin{array}{rrr}\n",
       "0 & 1 & 0 \\\\\n",
       "R {\\overline{ T }\\,} - 3 \\, {\\overline{ u }\\,}^{2} + \\frac{1}{2} \\, {\\left(2 \\, {\\overline{ u }\\,}^{2} - {\\overline{ u^{2} + \\frac{2 \\, R T}{\\gamma - 1} }\\,}\\right)} \\gamma + {\\overline{ u^{2} }\\,} + \\frac{1}{2} \\, {\\overline{ u^{2} + \\frac{2 \\, R T}{\\gamma - 1} }\\,} & -{\\overline{ u }\\,} \\gamma + 3 \\, {\\overline{ u }\\,} & \\gamma - 1 \\\\\n",
       "-\\frac{2 \\, {\\overline{ \\rho }\\,} {\\overline{ u }\\,}^{3} - {\\left({\\left(2 \\, R {\\overline{ T }\\,} + {\\overline{ u^{2} + \\frac{2 \\, R T}{\\gamma - 1} }\\,}\\right)} {\\overline{ \\rho }\\,} - {\\overline{ 2 \\, R T \\rho + {\\left(u^{2} + \\frac{2 \\, R T}{\\gamma - 1}\\right)} \\rho }\\,}\\right)} {\\overline{ u }\\,} - {\\left(2 \\, {\\overline{ \\rho }\\,} {\\overline{ u }\\,}^{3} - {\\overline{ u^{2} + \\frac{2 \\, R T}{\\gamma - 1} }\\,} {\\overline{ \\rho }\\,} {\\overline{ u }\\,}\\right)} \\gamma}{2 \\, {\\overline{ \\rho }\\,}} & -\\frac{2 \\, {\\overline{ \\rho }\\,} {\\overline{ u }\\,}^{2} \\gamma - 2 \\, {\\overline{ \\rho }\\,} {\\overline{ u }\\,}^{2} - {\\overline{ 2 \\, R T \\rho + {\\left(u^{2} + \\frac{2 \\, R T}{\\gamma - 1}\\right)} \\rho }\\,}}{2 \\, {\\overline{ \\rho }\\,}} & {\\overline{ u }\\,} \\gamma\n",
       "\\end{array}\\right)</script></html>"
      ],
      "text/plain": [
       "\\mathcal{A} = [                                                                                                                                                                            0                                                                                                                                                                             1                                                                                                                                                                             0]\n",
       "[                                                                           R*demo_xi_1 - 3*demo_xi_9^2 + 1/2*(2*demo_xi_9^2 - demo_xi_16)*gamma + demo_xi_13 + 1/2*demo_xi_16                                                                                                                                                -demo_xi_9*gamma + 3*demo_xi_9                                                                                                                                                                     gamma - 1]\n",
       "[-1/2*(2*demo_xi_3*demo_xi_9^3 - ((2*R*demo_xi_1 + demo_xi_16)*demo_xi_3 - demo_xi_17)*demo_xi_9 - (2*demo_xi_3*demo_xi_9^3 - demo_xi_16*demo_xi_3*demo_xi_9)*gamma)/demo_xi_3                                                                                         -1/2*(2*demo_xi_3*demo_xi_9^2*gamma - 2*demo_xi_3*demo_xi_9^2 - demo_xi_17)/demo_xi_3                                                                                                                                                               demo_xi_9*gamma]"
      ]
     },
     "metadata": {},
     "output_type": "display_data"
    }
   ],
   "source": [
    "B = matrix(SR, 3, 3)\n",
    "C = matrix(SR, 3, 3)\n",
    "\n",
    "for i in range(3):\n",
    "    for j in range(3):\n",
    "        B[i, j] = r.jump_coeff(q[i], r.vars[j])\n",
    "        C[i, j] = r.jump_coeff(f[i], r.vars[j])\n",
    "\n",
    "A = (C * B.inverse()).simplify_full()\n",
    "show(LatexExpr('\\mathcal{B} ='), B)\n",
    "show(LatexExpr('\\mathcal{C} ='), C)\n",
    "show(LatexExpr('\\mathcal{A} ='), A)"
   ]
  },
  {
   "cell_type": "code",
   "execution_count": 16,
   "metadata": {
    "collapsed": false,
    "deletable": true,
    "editable": true
   },
   "outputs": [
    {
     "data": {
      "text/html": [
       "<html><script type=\"math/tex; mode=display\">\\newcommand{\\Bold}[1]{\\mathbf{#1}}\\mathcal{B} = \\left(\\begin{array}{rrr}\n",
       "1 & 0 & 0 \\\\\n",
       "{\\overline{ u }\\,} & {\\overline{ \\rho }\\,} & 0 \\\\\n",
       "\\frac{1}{2} \\, {\\overline{ u^{2} + \\frac{2 \\, R}{Z {\\left(\\gamma - 1\\right)}} }\\,} & {\\overline{ \\rho }\\,} {\\overline{ u }\\,} & \\frac{R {\\overline{ \\rho }\\,}}{{\\left(\\gamma - 1\\right)} {\\widetilde{ Z }\\,}}\n",
       "\\end{array}\\right)</script></html>"
      ],
      "text/plain": [
       "\\mathcal{B} = [                                             1                                              0                                              0]\n",
       "[                                with_invT_xi_2                                 with_invT_xi_1                                              0]\n",
       "[                           1/2*with_invT_xi_12                  with_invT_xi_1*with_invT_xi_2 R*with_invT_xi_1/((gamma - 1)*with_invT_xi_11)]"
      ]
     },
     "metadata": {},
     "output_type": "display_data"
    },
    {
     "data": {
      "text/html": [
       "<html><script type=\"math/tex; mode=display\">\\newcommand{\\Bold}[1]{\\mathbf{#1}}\\mathcal{C} = \\left(\\begin{array}{rrr}\n",
       "{\\overline{ u }\\,} & {\\overline{ \\rho }\\,} & 0 \\\\\n",
       "R {\\overline{ \\frac{1}{Z} }\\,} + {\\overline{ u^{2} }\\,} & 2 \\, {\\overline{ \\rho }\\,} {\\overline{ u }\\,} & \\frac{R {\\overline{ \\rho }\\,}}{{\\widetilde{ Z }\\,}} \\\\\n",
       "\\frac{1}{2} \\, {\\left(2 \\, R {\\overline{ \\frac{1}{Z} }\\,} + {\\overline{ u^{2} + \\frac{2 \\, R}{Z {\\left(\\gamma - 1\\right)}} }\\,}\\right)} {\\overline{ u }\\,} & {\\overline{ \\rho }\\,} {\\overline{ u }\\,}^{2} + \\frac{1}{2} \\, {\\overline{ {\\left(u^{2} + \\frac{2 \\, R}{Z {\\left(\\gamma - 1\\right)}}\\right)} \\rho + \\frac{2 \\, R \\rho}{Z} }\\,} & {\\left(\\frac{R {\\overline{ \\rho }\\,}}{{\\widetilde{ Z }\\,}} + \\frac{R {\\overline{ \\rho }\\,}}{{\\left(\\gamma - 1\\right)} {\\widetilde{ Z }\\,}}\\right)} {\\overline{ u }\\,}\n",
       "\\end{array}\\right)</script></html>"
      ],
      "text/plain": [
       "\\mathcal{C} = [                                                                                    with_invT_xi_2                                                                                     with_invT_xi_1                                                                                                  0]\n",
       "[                                                                R*with_invT_xi_10 + with_invT_xi_4                                                                    2*with_invT_xi_1*with_invT_xi_2                                                                   R*with_invT_xi_1/with_invT_xi_11]\n",
       "[                                        1/2*(2*R*with_invT_xi_10 + with_invT_xi_12)*with_invT_xi_2                                              with_invT_xi_1*with_invT_xi_2^2 + 1/2*with_invT_xi_13 (R*with_invT_xi_1/with_invT_xi_11 + R*with_invT_xi_1/((gamma - 1)*with_invT_xi_11))*with_invT_xi_2]"
      ]
     },
     "metadata": {},
     "output_type": "display_data"
    },
    {
     "data": {
      "text/html": [
       "<html><script type=\"math/tex; mode=display\">\\newcommand{\\Bold}[1]{\\mathbf{#1}}\\mathcal{A} = \\left(\\begin{array}{rrr}\n",
       "0 & 1 & 0 \\\\\n",
       "{\\left(\\gamma - 3\\right)} {\\overline{ u }\\,}^{2} + R {\\overline{ \\frac{1}{Z} }\\,} - \\frac{1}{2} \\, {\\left(\\gamma - 1\\right)} {\\overline{ u^{2} + \\frac{2 \\, R}{Z {\\left(\\gamma - 1\\right)}} }\\,} + {\\overline{ u^{2} }\\,} & -{\\left(\\gamma - 3\\right)} {\\overline{ u }\\,} & \\gamma - 1 \\\\\n",
       "\\frac{2 \\, {\\left(\\gamma - 1\\right)} {\\overline{ \\rho }\\,} {\\overline{ u }\\,}^{3} + {\\left(2 \\, R {\\overline{ \\rho }\\,} {\\overline{ \\frac{1}{Z} }\\,} - {\\left(\\gamma - 1\\right)} {\\overline{ \\rho }\\,} {\\overline{ u^{2} + \\frac{2 \\, R}{Z {\\left(\\gamma - 1\\right)}} }\\,} - {\\overline{ {\\left(u^{2} + \\frac{2 \\, R}{Z {\\left(\\gamma - 1\\right)}}\\right)} \\rho + \\frac{2 \\, R \\rho}{Z} }\\,}\\right)} {\\overline{ u }\\,}}{2 \\, {\\overline{ \\rho }\\,}} & -\\frac{2 \\, {\\left(\\gamma - 1\\right)} {\\overline{ \\rho }\\,} {\\overline{ u }\\,}^{2} - {\\overline{ {\\left(u^{2} + \\frac{2 \\, R}{Z {\\left(\\gamma - 1\\right)}}\\right)} \\rho + \\frac{2 \\, R \\rho}{Z} }\\,}}{2 \\, {\\overline{ \\rho }\\,}} & \\gamma {\\overline{ u }\\,}\n",
       "\\end{array}\\right)</script></html>"
      ],
      "text/plain": [
       "\\mathcal{A} = [                                                                                                                                                                                      0                                                                                                                                                                                       1                                                                                                                                                                                       0]\n",
       "[                                                                                    (gamma - 3)*with_invT_xi_2^2 + R*with_invT_xi_10 - 1/2*(gamma - 1)*with_invT_xi_12 + with_invT_xi_4                                                                                                                                                             -(gamma - 3)*with_invT_xi_2                                                                                                                                                                               gamma - 1]\n",
       "[1/2*(2*(gamma - 1)*with_invT_xi_1*with_invT_xi_2^3 + (2*R*with_invT_xi_1*with_invT_xi_10 - (gamma - 1)*with_invT_xi_1*with_invT_xi_12 - with_invT_xi_13)*with_invT_xi_2)/with_invT_xi_1                                                                                                   -1/2*(2*(gamma - 1)*with_invT_xi_1*with_invT_xi_2^2 - with_invT_xi_13)/with_invT_xi_1                                                                                                                                                                    gamma*with_invT_xi_2]"
      ]
     },
     "metadata": {},
     "output_type": "display_data"
    }
   ],
   "source": [
    "Bz = matrix(SR, 3, 3)\n",
    "Cz = matrix(SR, 3, 3)\n",
    "\n",
    "for i in range(3):\n",
    "    for j in range(3):\n",
    "        Bz[i, j] = rz.jump_coeff(q[i].subs(T=1/Z), rz.vars[j])\n",
    "        Cz[i, j] = rz.jump_coeff(f[i].subs(T=1/Z), rz.vars[j])\n",
    "\n",
    "Az = (Cz * Bz.inverse()).simplify_full()\n",
    "show(LatexExpr('\\mathcal{B} ='), Bz)\n",
    "show(LatexExpr('\\mathcal{C} ='), Cz)\n",
    "show(LatexExpr('\\mathcal{A} ='), Az)"
   ]
  },
  {
   "cell_type": "code",
   "execution_count": 17,
   "metadata": {
    "collapsed": false,
    "deletable": true,
    "editable": true
   },
   "outputs": [
    {
     "data": {
      "text/html": [
       "<html><script type=\"math/tex; mode=display\">\\newcommand{\\Bold}[1]{\\mathbf{#1}}\\mathcal{B} = \\left(\\begin{array}{rrr}\n",
       "2 \\, {\\overline{ {\\mathcal{W}_1} }\\,} & 0 & 0 \\\\\n",
       "{\\overline{ {\\mathcal{W}_2} }\\,} & {\\overline{ {\\mathcal{W}_1} }\\,} & 0 \\\\\n",
       "\\frac{{\\overline{ {\\mathcal{W}_3} }\\,}}{\\gamma} & \\frac{{\\overline{ {\\mathcal{W}_2} }\\,} \\gamma - {\\overline{ {\\mathcal{W}_2} }\\,}}{\\gamma} & \\frac{{\\overline{ {\\mathcal{W}_1} }\\,}}{\\gamma}\n",
       "\\end{array}\\right)</script></html>"
      ],
      "text/plain": [
       "\\mathcal{B} = [                       2*Roe_xi_0                                 0                                 0]\n",
       "[                         Roe_xi_1                          Roe_xi_0                                 0]\n",
       "[                   Roe_xi_3/gamma (Roe_xi_1*gamma - Roe_xi_1)/gamma                    Roe_xi_0/gamma]"
      ]
     },
     "metadata": {},
     "output_type": "display_data"
    },
    {
     "data": {
      "text/html": [
       "<html><script type=\"math/tex; mode=display\">\\newcommand{\\Bold}[1]{\\mathbf{#1}}\\mathcal{C} = \\left(\\begin{array}{rrr}\n",
       "{\\overline{ {\\mathcal{W}_2} }\\,} & {\\overline{ {\\mathcal{W}_1} }\\,} & 0 \\\\\n",
       "\\frac{{\\overline{ {\\mathcal{W}_3} }\\,} \\gamma - {\\overline{ {\\mathcal{W}_3} }\\,}}{\\gamma} & \\frac{{\\overline{ {\\mathcal{W}_2} }\\,} \\gamma + {\\overline{ {\\mathcal{W}_2} }\\,}}{\\gamma} & \\frac{{\\overline{ {\\mathcal{W}_1} }\\,} \\gamma - {\\overline{ {\\mathcal{W}_1} }\\,}}{\\gamma} \\\\\n",
       "0 & {\\overline{ {\\mathcal{W}_3} }\\,} & {\\overline{ {\\mathcal{W}_2} }\\,}\n",
       "\\end{array}\\right)</script></html>"
      ],
      "text/plain": [
       "\\mathcal{C} = [                         Roe_xi_1                          Roe_xi_0                                 0]\n",
       "[(Roe_xi_3*gamma - Roe_xi_3)/gamma (Roe_xi_1*gamma + Roe_xi_1)/gamma (Roe_xi_0*gamma - Roe_xi_0)/gamma]\n",
       "[                                0                          Roe_xi_3                          Roe_xi_1]"
      ]
     },
     "metadata": {},
     "output_type": "display_data"
    },
    {
     "data": {
      "text/html": [
       "<html><script type=\"math/tex; mode=display\">\\newcommand{\\Bold}[1]{\\mathbf{#1}}\\mathcal{A} = \\left(\\begin{array}{rrr}\n",
       "0 & 1 & 0 \\\\\n",
       "\\frac{{\\overline{ {\\mathcal{W}_2} }\\,}^{2} \\gamma - 3 \\, {\\overline{ {\\mathcal{W}_2} }\\,}^{2}}{2 \\, {\\overline{ {\\mathcal{W}_1} }\\,}^{2}} & -\\frac{{\\overline{ {\\mathcal{W}_2} }\\,} \\gamma - 3 \\, {\\overline{ {\\mathcal{W}_2} }\\,}}{{\\overline{ {\\mathcal{W}_1} }\\,}} & \\gamma - 1 \\\\\n",
       "\\frac{{\\overline{ {\\mathcal{W}_2} }\\,}^{3} \\gamma - {\\overline{ {\\mathcal{W}_2} }\\,}^{3} - 2 \\, {\\overline{ {\\mathcal{W}_1} }\\,} {\\overline{ {\\mathcal{W}_2} }\\,} {\\overline{ {\\mathcal{W}_3} }\\,}}{2 \\, {\\overline{ {\\mathcal{W}_1} }\\,}^{3}} & -\\frac{{\\overline{ {\\mathcal{W}_2} }\\,}^{2} \\gamma - {\\overline{ {\\mathcal{W}_2} }\\,}^{2} - {\\overline{ {\\mathcal{W}_1} }\\,} {\\overline{ {\\mathcal{W}_3} }\\,}}{{\\overline{ {\\mathcal{W}_1} }\\,}^{2}} & \\frac{{\\overline{ {\\mathcal{W}_2} }\\,} \\gamma}{{\\overline{ {\\mathcal{W}_1} }\\,}}\n",
       "\\end{array}\\right)</script></html>"
      ],
      "text/plain": [
       "\\mathcal{A} = [                                                                            0                                                                             1                                                                             0]\n",
       "[                             1/2*(Roe_xi_1^2*gamma - 3*Roe_xi_1^2)/Roe_xi_0^2                                       -(Roe_xi_1*gamma - 3*Roe_xi_1)/Roe_xi_0                                                                     gamma - 1]\n",
       "[1/2*(Roe_xi_1^3*gamma - Roe_xi_1^3 - 2*Roe_xi_0*Roe_xi_1*Roe_xi_3)/Roe_xi_0^3               -(Roe_xi_1^2*gamma - Roe_xi_1^2 - Roe_xi_0*Roe_xi_3)/Roe_xi_0^2                                                       Roe_xi_1*gamma/Roe_xi_0]"
      ]
     },
     "metadata": {},
     "output_type": "display_data"
    }
   ],
   "source": [
    "rroe = Poblano('Roe', ['z_1', 'z_2', 'z_3'], latex_name_dict={'z_1': '\\\\mathcal{W}_1', 'z_2': '\\\\mathcal{W}_2', 'z_3': '\\\\mathcal{W}_3'})\n",
    "Z1, Z2, Z3 = rroe.vars\n",
    "\n",
    "to_roe_dict = {rho: Z1 ** 2, u: Z2 / Z1, T: (Z3 / Z1 - Z2 ** 2 / Z1 ** 2 / 2) / (cv + R)}\n",
    "\n",
    "Br = matrix(SR, 3, 3)\n",
    "Cr = matrix(SR, 3, 3)\n",
    "\n",
    "for i in range(3):\n",
    "    for j in range(3):\n",
    "        Br[i, j] = rroe.jump_coeff(q[i].subs(to_roe_dict).simplify_full().expand(), rroe.vars[j])\n",
    "        Cr[i, j] = rroe.jump_coeff(f[i].subs(to_roe_dict).simplify_full().expand(), rroe.vars[j])\n",
    "\n",
    "Br = Br.simplify_full()\n",
    "Cr = Cr.simplify_full()\n",
    "Ar = (Cr * Br.inverse()).simplify_full()\n",
    "show(LatexExpr('\\mathcal{B} ='), Br)\n",
    "show(LatexExpr('\\mathcal{C} ='), Cr)\n",
    "show(LatexExpr('\\mathcal{A} ='), Ar)"
   ]
  },
  {
   "cell_type": "markdown",
   "metadata": {
    "collapsed": false,
    "deletable": true,
    "editable": true
   },
   "source": [
    "#### Using the Roe parameter vector to derive an entropy conservative flux function\n",
    "\n",
    "In this little addendum, we show that while Roe's parameter vector is terrific for the Roe average matrix, it is useless for deriving entropy conservative flux functions, because the entropy variables are so convoluted when written in terms of the parameter vector. We don't try to solve and typeset the flux function as it will crash one's computer..."
   ]
  },
  {
   "cell_type": "code",
   "execution_count": 20,
   "metadata": {
    "collapsed": false,
    "deletable": true,
    "editable": true
   },
   "outputs": [
    {
     "data": {
      "text/html": [
       "<html><script type=\"math/tex; mode=display\">\\newcommand{\\Bold}[1]{\\mathbf{#1}}\\left(\\frac{{\\left(2 \\, R \\gamma \\log\\left({\\mathcal{W}_1}\\right) + 2 \\, R \\gamma + R \\log\\left(2\\right) + R \\log\\left(R\\right) - R \\log\\left(\\gamma - 1\\right) + R \\log\\left(\\gamma\\right)\\right)} {\\mathcal{W}_2}^{2} - 2 \\, {\\left(2 \\, R \\gamma {\\mathcal{W}_1} \\log\\left({\\mathcal{W}_1}\\right) + {\\left(R \\gamma + R \\log\\left(2\\right) + R \\log\\left(R\\right) - R \\log\\left(\\gamma - 1\\right) + R \\log\\left(\\gamma\\right)\\right)} {\\mathcal{W}_1}\\right)} {\\mathcal{W}_3} - {\\left(R {\\mathcal{W}_2}^{2} - 2 \\, R {\\mathcal{W}_1} {\\mathcal{W}_3}\\right)} \\log\\left(-{\\mathcal{W}_2}^{2} + 2 \\, {\\mathcal{W}_1} {\\mathcal{W}_3}\\right)}{{\\left(\\gamma - 1\\right)} {\\mathcal{W}_2}^{2} - 2 \\, {\\left(\\gamma - 1\\right)} {\\mathcal{W}_1} {\\mathcal{W}_3}},\\,-\\frac{2 \\, R \\gamma {\\mathcal{W}_1} {\\mathcal{W}_2}}{{\\left(\\gamma - 1\\right)} {\\mathcal{W}_2}^{2} - 2 \\, {\\left(\\gamma - 1\\right)} {\\mathcal{W}_1} {\\mathcal{W}_3}},\\,\\frac{2 \\, R \\gamma {\\mathcal{W}_1}^{2}}{{\\left(\\gamma - 1\\right)} {\\mathcal{W}_2}^{2} - 2 \\, {\\left(\\gamma - 1\\right)} {\\mathcal{W}_1} {\\mathcal{W}_3}}\\right)</script></html>"
      ],
      "text/plain": [
       "(((2*R*gamma*log(z_1) + 2*R*gamma + R*log(2) + R*log(R) - R*log(gamma - 1) + R*log(gamma))*z_2^2 - 2*(2*R*gamma*z_1*log(z_1) + (R*gamma + R*log(2) + R*log(R) - R*log(gamma - 1) + R*log(gamma))*z_1)*z_3 - (R*z_2^2 - 2*R*z_1*z_3)*log(-z_2^2 + 2*z_1*z_3))/((gamma - 1)*z_2^2 - 2*(gamma - 1)*z_1*z_3), -2*R*gamma*z_1*z_2/((gamma - 1)*z_2^2 - 2*(gamma - 1)*z_1*z_3), 2*R*gamma*z_1^2/((gamma - 1)*z_2^2 - 2*(gamma - 1)*z_1*z_3))"
      ]
     },
     "metadata": {},
     "output_type": "display_data"
    },
    {
     "data": {
      "text/html": [
       "<html><script type=\"math/tex; mode=display\">\\newcommand{\\Bold}[1]{\\mathbf{#1}}R {\\mathcal{W}_1} {\\mathcal{W}_2}</script></html>"
      ],
      "text/plain": [
       "R*z_1*z_2"
      ]
     },
     "metadata": {},
     "output_type": "display_data"
    }
   ],
   "source": [
    "wroe = w.subs(to_roe_dict)\n",
    "for i in range(3):\n",
    "    wroe[i] = wroe[i].canonicalize_radical().simplify_full()\n",
    "psiroe = psi.subs(to_roe_dict).simplify_full()\n",
    "show(wroe)\n",
    "show(psiroe)"
   ]
  },
  {
   "cell_type": "markdown",
   "metadata": {
    "collapsed": false,
    "deletable": true,
    "editable": true
   },
   "source": [
    "Roe _is_ responsible for an entropy conservative flux function, derived with a different parameter vector, defined as $\\theta_1=\\sqrt{\\rho/p}$, $\\theta_2=\\sqrt{\\rho/p}u$, $\\theta_3=\\sqrt{\\rho/p}p$. We show this derivation here, which we note is very straightforward and fast with Poblano (compared to doing the algebra entirely manually). This will be the third entropy conservative flux function we've derived, all without tedious, error-prone math by hand."
   ]
  },
  {
   "cell_type": "code",
   "execution_count": 28,
   "metadata": {
    "collapsed": false
   },
   "outputs": [
    {
     "data": {
      "text/html": [
       "<html><script type=\"math/tex; mode=display\">\\newcommand{\\Bold}[1]{\\mathbf{#1}}\\left(-\\frac{R \\gamma {\\theta_2}^{2}}{2 \\, {\\left(\\gamma - 1\\right)}} + \\frac{R {\\theta_2}^{2}}{2 \\, {\\left(\\gamma - 1\\right)}} + \\frac{R \\gamma \\log\\left({\\theta_1}\\right)}{\\gamma - 1} + \\frac{R \\gamma \\log\\left({\\theta_3}\\right)}{\\gamma - 1} + \\frac{R \\gamma}{\\gamma - 1} + \\frac{R \\log\\left(R\\right)}{\\gamma - 1} + \\frac{R \\log\\left({\\theta_1}\\right)}{\\gamma - 1} - \\frac{R \\log\\left({\\theta_3}\\right)}{\\gamma - 1},\\,R {\\theta_1} {\\theta_2},\\,-R {\\theta_1}^{2}\\right)</script></html>"
      ],
      "text/plain": [
       "(-1/2*R*gamma*z_22^2/(gamma - 1) + 1/2*R*z_22^2/(gamma - 1) + R*gamma*log(z_12)/(gamma - 1) + R*gamma*log(z_32)/(gamma - 1) + R*gamma/(gamma - 1) + R*log(R)/(gamma - 1) + R*log(z_12)/(gamma - 1) - R*log(z_32)/(gamma - 1), R*z_12*z_22, -R*z_12^2)"
      ]
     },
     "metadata": {},
     "output_type": "display_data"
    },
    {
     "data": {
      "text/html": [
       "<html><script type=\"math/tex; mode=display\">\\newcommand{\\Bold}[1]{\\mathbf{#1}}R {\\theta_2} {\\theta_3}</script></html>"
      ],
      "text/plain": [
       "R*z_22*z_32"
      ]
     },
     "metadata": {},
     "output_type": "display_data"
    },
    {
     "data": {
      "text/html": [
       "<html><script type=\"math/tex; mode=display\">\\newcommand{\\Bold}[1]{\\mathbf{#1}}g = \\left(0,\\,R {\\overline{ {\\theta_3} }\\,},\\,R {\\overline{ {\\theta_2} }\\,}\\right)</script></html>"
      ],
      "text/plain": [
       "g = (0, R*Roe2_xi_2, R*Roe2_xi_1)"
      ]
     },
     "metadata": {},
     "output_type": "display_data"
    },
    {
     "data": {
      "text/html": [
       "<html><script type=\"math/tex; mode=display\">\\newcommand{\\Bold}[1]{\\mathbf{#1}}H = \\left(\\begin{array}{rrr}\n",
       "\\frac{R \\gamma + R}{{\\widehat{ {\\theta_1} }\\,} \\gamma - {\\widehat{ {\\theta_1} }\\,}} & -R {\\overline{ {\\theta_2} }\\,} & \\frac{R}{{\\widehat{ {\\theta_3} }\\,}} \\\\\n",
       "R {\\overline{ {\\theta_2} }\\,} & R {\\overline{ {\\theta_1} }\\,} & 0 \\\\\n",
       "-2 \\, R {\\overline{ {\\theta_1} }\\,} & 0 & 0\n",
       "\\end{array}\\right)</script></html>"
      ],
      "text/plain": [
       "H = [(R*gamma + R)/(Roe2_xi_5*gamma - Roe2_xi_5)                                -R*Roe2_xi_1                                 R/Roe2_xi_7]\n",
       "[                                R*Roe2_xi_1                                 R*Roe2_xi_9                                           0]\n",
       "[                             -2*R*Roe2_xi_9                                           0                                           0]"
      ]
     },
     "metadata": {},
     "output_type": "display_data"
    },
    {
     "data": {
      "text/html": [
       "<html><script type=\"math/tex; mode=display\">\\newcommand{\\Bold}[1]{\\mathbf{#1}}f^S = \\left({\\overline{ {\\theta_2} }\\,} {\\widehat{ {\\theta_3} }\\,},\\,\\frac{{\\overline{ {\\theta_2} }\\,}^{2} {\\widehat{ {\\theta_3} }\\,} + {\\overline{ {\\theta_3} }\\,}}{{\\overline{ {\\theta_1} }\\,}},\\,-\\frac{{\\overline{ {\\theta_2} }\\,}^{3} {\\widehat{ {\\theta_1} }\\,} {\\widehat{ {\\theta_3} }\\,} + {\\overline{ {\\theta_2} }\\,} {\\overline{ {\\theta_3} }\\,} {\\widehat{ {\\theta_1} }\\,} - {\\overline{ {\\theta_2} }\\,} {\\widehat{ {\\theta_3} }\\,} {\\overline{ {\\theta_1} }\\,} - {\\left({\\overline{ {\\theta_2} }\\,}^{3} {\\widehat{ {\\theta_1} }\\,} {\\widehat{ {\\theta_3} }\\,} + {\\overline{ {\\theta_2} }\\,} {\\overline{ {\\theta_3} }\\,} {\\widehat{ {\\theta_1} }\\,} + {\\overline{ {\\theta_2} }\\,} {\\widehat{ {\\theta_3} }\\,} {\\overline{ {\\theta_1} }\\,}\\right)} \\gamma}{2 \\, {\\left({\\widehat{ {\\theta_1} }\\,} {\\overline{ {\\theta_1} }\\,}^{2} \\gamma - {\\widehat{ {\\theta_1} }\\,} {\\overline{ {\\theta_1} }\\,}^{2}\\right)}}\\right)</script></html>"
      ],
      "text/plain": [
       "f^S = (Roe2_xi_1*Roe2_xi_7, (Roe2_xi_1^2*Roe2_xi_7 + Roe2_xi_2)/Roe2_xi_9, -1/2*(Roe2_xi_1^3*Roe2_xi_5*Roe2_xi_7 + Roe2_xi_1*Roe2_xi_2*Roe2_xi_5 - Roe2_xi_1*Roe2_xi_7*Roe2_xi_9 - (Roe2_xi_1^3*Roe2_xi_5*Roe2_xi_7 + Roe2_xi_1*Roe2_xi_2*Roe2_xi_5 + Roe2_xi_1*Roe2_xi_7*Roe2_xi_9)*gamma)/(Roe2_xi_5*Roe2_xi_9^2*gamma - Roe2_xi_5*Roe2_xi_9^2))"
      ]
     },
     "metadata": {},
     "output_type": "display_data"
    }
   ],
   "source": [
    "rroe2 = Poblano('Roe2', ['z_12', 'z_22', 'z_32'], latex_name_dict={'z_12': '\\\\theta_1', 'z_22': '\\\\theta_2', 'z_32': '\\\\theta_3'})\n",
    "T1, T2, T3 = rroe2.vars\n",
    "\n",
    "to_roe2_dict = {rho: T1 * T3, u: T2 / T1, T: 1 / (R * T1 ** 2)}\n",
    "\n",
    "wroe2 = w.subs(to_roe2_dict)\n",
    "for i in range(3):\n",
    "    wroe2[i] = wroe2[i].canonicalize_radical().simplify_full().expand()\n",
    "psiroe2 = psi.subs(to_roe2_dict).simplify_full()\n",
    "show(wroe2)\n",
    "show(psiroe2)\n",
    "\n",
    "groe2 = vector(SR, 3)\n",
    "Hroe2 = matrix(SR, 3, 3)\n",
    "\n",
    "for i in range(3):\n",
    "    groe2[i] = rroe2.jump_coeff(psiroe2, rroe2.vars[i])\n",
    "    for j in range(3):\n",
    "        Hroe2[i, j] = rroe2.jump_coeff(wroe2[i], rroe2.vars[j]).simplify_full()\n",
    "fSroe2 = (Hroe2.T.inverse() * groe2).simplify_full()\n",
    "\n",
    "show(LatexExpr('g ='), groe2)\n",
    "show(LatexExpr('H ='), Hroe2)\n",
    "show(LatexExpr('f^S ='), fSroe2.simplify_full())"
   ]
  },
  {
   "cell_type": "markdown",
   "metadata": {
    "collapsed": true,
    "deletable": true,
    "editable": true
   },
   "source": [
    "#### Using the Chandrashekar parameter vector to derive an entropy conservative flux function\n",
    "\n",
    "Just for fun... we'll derive yet another entropy conservative flux function, this one with the parameter vector of Chandrashekar, $\\pi_1=\\rho$, $\\pi_2=u$, and $\\pi_3=1/(2RT)$, only slightly different than our second parameter vector that simply uses the inverse temperature. Comparison shows that the resultant flux functions are pretty similar (Sage does some different simplications, but oh well)."
   ]
  },
  {
   "cell_type": "code",
   "execution_count": 38,
   "metadata": {
    "collapsed": false
   },
   "outputs": [
    {
     "data": {
      "text/html": [
       "<html><script type=\"math/tex; mode=display\">\\newcommand{\\Bold}[1]{\\mathbf{#1}}\\left(-\\frac{R {\\pi_3} \\gamma u^{2}}{\\gamma - 1} + \\frac{R {\\pi_3} u^{2}}{\\gamma - 1} + \\frac{R \\gamma \\log\\left(\\rho\\right)}{\\gamma - 1} + \\frac{R \\gamma}{\\gamma - 1} + \\frac{R \\log\\left(2\\right)}{\\gamma - 1} + \\frac{R \\log\\left(R\\right)}{\\gamma - 1} + \\frac{R \\log\\left({\\pi_3}\\right)}{\\gamma - 1} - \\frac{R \\log\\left(\\rho\\right)}{\\gamma - 1},\\,2 \\, R {\\pi_3} u,\\,-2 \\, R {\\pi_3}\\right)</script></html>"
      ],
      "text/plain": [
       "(-R*Z_ckr*gamma*u^2/(gamma - 1) + R*Z_ckr*u^2/(gamma - 1) + R*gamma*log(rho)/(gamma - 1) + R*gamma/(gamma - 1) + R*log(2)/(gamma - 1) + R*log(R)/(gamma - 1) + R*log(Z_ckr)/(gamma - 1) - R*log(rho)/(gamma - 1), 2*R*Z_ckr*u, -2*R*Z_ckr)"
      ]
     },
     "metadata": {},
     "output_type": "display_data"
    },
    {
     "data": {
      "text/html": [
       "<html><script type=\"math/tex; mode=display\">\\newcommand{\\Bold}[1]{\\mathbf{#1}}R \\rho u</script></html>"
      ],
      "text/plain": [
       "R*rho*u"
      ]
     },
     "metadata": {},
     "output_type": "display_data"
    },
    {
     "data": {
      "text/html": [
       "<html><script type=\"math/tex; mode=display\">\\newcommand{\\Bold}[1]{\\mathbf{#1}}g = \\left(R {\\overline{ u }\\,},\\,R {\\overline{ \\rho }\\,},\\,0\\right)</script></html>"
      ],
      "text/plain": [
       "g = (R*Roe2_xi_2, R*Roe2_xi_1, 0)"
      ]
     },
     "metadata": {},
     "output_type": "display_data"
    },
    {
     "data": {
      "text/html": [
       "<html><script type=\"math/tex; mode=display\">\\newcommand{\\Bold}[1]{\\mathbf{#1}}H = \\left(\\begin{array}{rrr}\n",
       "\\frac{R}{{\\widehat{ \\rho }\\,}} & -2 \\, R {\\overline{ u }\\,} {\\overline{ {\\pi_3} }\\,} & -\\frac{R {\\overline{ u^{2} }\\,} {\\widehat{ {\\pi_3} }\\,} \\gamma}{{\\widehat{ {\\pi_3} }\\,} \\gamma - {\\widehat{ {\\pi_3} }\\,}} + \\frac{R {\\overline{ u^{2} }\\,} {\\widehat{ {\\pi_3} }\\,}}{{\\widehat{ {\\pi_3} }\\,} \\gamma - {\\widehat{ {\\pi_3} }\\,}} + \\frac{R}{{\\widehat{ {\\pi_3} }\\,} \\gamma - {\\widehat{ {\\pi_3} }\\,}} \\\\\n",
       "0 & 2 \\, R {\\overline{ {\\pi_3} }\\,} & 2 \\, R {\\overline{ u }\\,} \\\\\n",
       "0 & 0 & -2 \\, R\n",
       "\\end{array}\\right)</script></html>"
      ],
      "text/plain": [
       "H = [                                                                                                                                       R/Roe2_xi_7                                                                                                                           -2*R*Roe2_xi_2*Roe2_xi_4 -R*Roe2_xi_5*Roe2_xi_9*gamma/(Roe2_xi_9*gamma - Roe2_xi_9) + R*Roe2_xi_5*Roe2_xi_9/(Roe2_xi_9*gamma - Roe2_xi_9) + R/(Roe2_xi_9*gamma - Roe2_xi_9)]\n",
       "[                                                                                                                                                 0                                                                                                                                      2*R*Roe2_xi_4                                                                                                                                      2*R*Roe2_xi_2]\n",
       "[                                                                                                                                                 0                                                                                                                                                  0                                                                                                                                               -2*R]"
      ]
     },
     "metadata": {},
     "output_type": "display_data"
    },
    {
     "data": {
      "text/html": [
       "<html><script type=\"math/tex; mode=display\">\\newcommand{\\Bold}[1]{\\mathbf{#1}}\\text{Chandrashekar: } f^S = \\left({\\overline{ u }\\,} {\\widehat{ \\rho }\\,},\\,{\\overline{ u }\\,}^{2} {\\widehat{ \\rho }\\,} + \\frac{{\\overline{ \\rho }\\,}}{2 \\, {\\overline{ {\\pi_3} }\\,}},\\,\\frac{1}{2} \\, {\\left(2 \\, {\\overline{ u }\\,}^{2} {\\widehat{ \\rho }\\,} - \\frac{{\\left(\\frac{R {\\overline{ u^{2} }\\,} {\\widehat{ {\\pi_3} }\\,} \\gamma}{{\\widehat{ {\\pi_3} }\\,} \\gamma - {\\widehat{ {\\pi_3} }\\,}} - \\frac{R {\\overline{ u^{2} }\\,} {\\widehat{ {\\pi_3} }\\,}}{{\\widehat{ {\\pi_3} }\\,} \\gamma - {\\widehat{ {\\pi_3} }\\,}} - \\frac{R}{{\\widehat{ {\\pi_3} }\\,} \\gamma - {\\widehat{ {\\pi_3} }\\,}}\\right)} {\\widehat{ \\rho }\\,}}{R}\\right)} {\\overline{ u }\\,} + \\frac{{\\overline{ \\rho }\\,} {\\overline{ u }\\,}}{2 \\, {\\overline{ {\\pi_3} }\\,}}\\right)</script></html>"
      ],
      "text/plain": [
       "\\text{Chandrashekar: } f^S = (Roe2_xi_2*Roe2_xi_7, Roe2_xi_2^2*Roe2_xi_7 + 1/2*Roe2_xi_1/Roe2_xi_4, 1/2*(2*Roe2_xi_2^2*Roe2_xi_7 - (R*Roe2_xi_5*Roe2_xi_9*gamma/(Roe2_xi_9*gamma - Roe2_xi_9) - R*Roe2_xi_5*Roe2_xi_9/(Roe2_xi_9*gamma - Roe2_xi_9) - R/(Roe2_xi_9*gamma - Roe2_xi_9))*Roe2_xi_7/R)*Roe2_xi_2 + 1/2*Roe2_xi_1*Roe2_xi_2/Roe2_xi_4)"
      ]
     },
     "metadata": {},
     "output_type": "display_data"
    },
    {
     "data": {
      "text/html": [
       "<html><script type=\"math/tex; mode=display\">\\newcommand{\\Bold}[1]{\\mathbf{#1}}\\text{simple 1/T: } f^S = \\left({\\overline{ u }\\,} {\\widehat{ \\rho }\\,},\\,{\\overline{ u }\\,}^{2} {\\widehat{ \\rho }\\,} + \\frac{R {\\overline{ \\rho }\\,}}{{\\overline{ Z }\\,}},\\,\\frac{1}{2} \\, {\\left(\\frac{2 \\, {\\overline{ u }\\,}^{2} {\\widehat{ \\rho }\\,}}{R} - \\frac{{\\left({\\left(\\gamma - 1\\right)} {\\overline{ u^{2} }\\,} {\\widehat{ Z }\\,} - 2 \\, R\\right)} {\\widehat{ \\rho }\\,}}{R {\\left(\\gamma - 1\\right)} {\\widehat{ Z }\\,}}\\right)} R {\\overline{ u }\\,} + \\frac{R {\\overline{ \\rho }\\,} {\\overline{ u }\\,}}{{\\overline{ Z }\\,}}\\right)</script></html>"
      ],
      "text/plain": [
       "\\text{simple 1/T: } f^S = (with_invT_xi_2*with_invT_xi_6, with_invT_xi_2^2*with_invT_xi_6 + R*with_invT_xi_1/with_invT_xi_3, 1/2*(2*with_invT_xi_2^2*with_invT_xi_6/R - ((gamma - 1)*with_invT_xi_4*with_invT_xi_8 - 2*R)*with_invT_xi_6/(R*(gamma - 1)*with_invT_xi_8))*R*with_invT_xi_2 + R*with_invT_xi_1*with_invT_xi_2/with_invT_xi_3)"
      ]
     },
     "metadata": {},
     "output_type": "display_data"
    }
   ],
   "source": [
    "rckr = Poblano('Roe2', [rho, u, 'Z_ckr'], latex_name_dict={'Z_ckr': '\\\\pi_3'})\n",
    "Z_ckr = rckr.vars[-1]\n",
    "\n",
    "to_ckr_dict = {T: 1 / (2 * R * Z_ckr)}\n",
    "\n",
    "wckr = w.subs(to_ckr_dict)\n",
    "for i in range(3):\n",
    "    wckr[i] = wckr[i].canonicalize_radical().simplify_full().expand()\n",
    "psickr = psi.subs(to_ckr_dict).simplify_full()\n",
    "show(wckr)\n",
    "show(psickr)\n",
    "\n",
    "gckr = vector(SR, 3)\n",
    "Hckr = matrix(SR, 3, 3)\n",
    "\n",
    "for i in range(3):\n",
    "    gckr[i] = rckr.jump_coeff(psickr, rckr.vars[i])\n",
    "    for j in range(3):\n",
    "        Hckr[i, j] = rckr.jump_coeff(wckr[i], rckr.vars[j]).simplify_full().expand()\n",
    "fSckr = (Hckr.T.inverse() * gckr).simplify()\n",
    "\n",
    "show(LatexExpr('g ='), gckr)\n",
    "show(LatexExpr('H ='), Hckr)\n",
    "show(LatexExpr('\\\\text{Chandrashekar: } f^S ='), fSckr)\n",
    "show(LatexExpr('\\\\text{simple 1/T: } f^S ='), fSz)"
   ]
  },
  {
   "cell_type": "code",
   "execution_count": null,
   "metadata": {
    "collapsed": true
   },
   "outputs": [],
   "source": []
  }
 ],
 "metadata": {
  "kernelspec": {
   "display_name": "SageMath 7.6",
   "language": "",
   "name": "sagemath"
  },
  "language_info": {
   "codemirror_mode": {
    "name": "ipython",
    "version": 2
   },
   "file_extension": ".py",
   "mimetype": "text/x-python",
   "name": "python",
   "nbconvert_exporter": "python",
   "pygments_lexer": "ipython2",
   "version": "2.7.13"
  }
 },
 "nbformat": 4,
 "nbformat_minor": 2
}
