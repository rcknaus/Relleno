{
 "cells": [
  {
   "cell_type": "markdown",
   "metadata": {},
   "source": [
    "## Some calculus with poblano: the benefit of 'hidden' values and differentials"
   ]
  },
  {
   "cell_type": "code",
   "execution_count": 1,
   "metadata": {
    "collapsed": true
   },
   "outputs": [],
   "source": [
    "from poblano import PoblanoRing as Poblano\n",
    "%display latex"
   ]
  },
  {
   "cell_type": "markdown",
   "metadata": {},
   "source": [
    "#### First we make a Poblano object\n",
    "This requires us to specify the variables on which functions will depend.\n",
    "\n",
    "Here we simply have a two-dimensional space defined by variables `x` and `y`.\n",
    "\n",
    "Notice how we can (optionally) provide a special LaTeX representation of the variables."
   ]
  },
  {
   "cell_type": "code",
   "execution_count": 2,
   "metadata": {
    "collapsed": false
   },
   "outputs": [
    {
     "data": {
      "text/html": [
       "<html><script type=\"math/tex; mode=display\">\\newcommand{\\Bold}[1]{\\mathbf{#1}}{x}</script></html>"
      ],
      "text/plain": [
       "x"
      ]
     },
     "metadata": {},
     "output_type": "display_data"
    },
    {
     "data": {
      "text/html": [
       "<html><script type=\"math/tex; mode=display\">\\newcommand{\\Bold}[1]{\\mathbf{#1}}{\\mathsf{Y}}</script></html>"
      ],
      "text/plain": [
       "y"
      ]
     },
     "metadata": {},
     "output_type": "display_data"
    }
   ],
   "source": [
    "r = Poblano('demo', ['x', 'y'], {'y': '\\\\mathsf{Y}'})\n",
    "x, y = r.vars\n",
    "\n",
    "show(x)\n",
    "show(y)"
   ]
  },
  {
   "cell_type": "markdown",
   "metadata": {},
   "source": [
    "#### Now we can make some constants and functions\n",
    "\n",
    "To gain the benefits of poblano, use the `fxn` method on the poblano object `r` to make constants and functions.\n",
    "\n",
    "To make a constant, one simply provides a symbol to `fxn`, as follows for `a`.\n",
    "\n",
    "This produces a `PoblanoExpression` object, which has its symbol used in expressions, a value hidden behind the symbol (to keep expressions simple), a dictionary useful for substitutions later on, and a total differential, which is zero for a constant.\n",
    "\n",
    "With the `print` function we can quickly look at a `PoblanoExpression` and see if it is constant. We can also use the `is_constant()` method allows us to check too."
   ]
  },
  {
   "cell_type": "code",
   "execution_count": 3,
   "metadata": {
    "collapsed": false
   },
   "outputs": [
    {
     "data": {
      "text/html": [
       "<html><script type=\"math/tex; mode=display\">\\newcommand{\\Bold}[1]{\\mathbf{#1}}a</script></html>"
      ],
      "text/plain": [
       "a"
      ]
     },
     "metadata": {},
     "output_type": "display_data"
    },
    {
     "data": {
      "text/html": [
       "<html><script type=\"math/tex; mode=display\">\\newcommand{\\Bold}[1]{\\mathbf{#1}}a</script></html>"
      ],
      "text/plain": [
       "a"
      ]
     },
     "metadata": {},
     "output_type": "display_data"
    },
    {
     "data": {
      "text/html": [
       "<html><script type=\"math/tex; mode=display\">\\newcommand{\\Bold}[1]{\\mathbf{#1}}\\left\\{a : a\\right\\}</script></html>"
      ],
      "text/plain": [
       "{a: a}"
      ]
     },
     "metadata": {},
     "output_type": "display_data"
    },
    {
     "data": {
      "text/html": [
       "<html><script type=\"math/tex; mode=display\">\\newcommand{\\Bold}[1]{\\mathbf{#1}}0</script></html>"
      ],
      "text/plain": [
       "0"
      ]
     },
     "metadata": {},
     "output_type": "display_data"
    },
    {
     "name": "stdout",
     "output_type": "stream",
     "text": [
      "PoblanoExpr: ( a : a ( constant))\n"
     ]
    },
    {
     "data": {
      "text/html": [
       "<html><script type=\"math/tex; mode=display\">\\newcommand{\\Bold}[1]{\\mathbf{#1}}\\mathrm{True}</script></html>"
      ],
      "text/plain": [
       "True"
      ]
     },
     "metadata": {},
     "output_type": "display_data"
    }
   ],
   "source": [
    "a = r.fxn('a')\n",
    "\n",
    "show(a.symbol)\n",
    "show(a.value)\n",
    "show(a.dict)\n",
    "show(a.total_diff)\n",
    "\n",
    "print(a)\n",
    "show(a.is_constant())"
   ]
  },
  {
   "cell_type": "markdown",
   "metadata": {},
   "source": [
    "Next we'll make a function that depends on the variables.\n",
    "\n",
    "Note that here the symbol and value of `f` are different, the total differential is automatically computed from the specified value, and that poblano identifies `f` as nonconstant."
   ]
  },
  {
   "cell_type": "code",
   "execution_count": 4,
   "metadata": {
    "collapsed": false
   },
   "outputs": [
    {
     "data": {
      "text/html": [
       "<html><script type=\"math/tex; mode=display\">\\newcommand{\\Bold}[1]{\\mathbf{#1}}f</script></html>"
      ],
      "text/plain": [
       "f"
      ]
     },
     "metadata": {},
     "output_type": "display_data"
    },
    {
     "data": {
      "text/html": [
       "<html><script type=\"math/tex; mode=display\">\\newcommand{\\Bold}[1]{\\mathbf{#1}}{x}^{2}</script></html>"
      ],
      "text/plain": [
       "x^2"
      ]
     },
     "metadata": {},
     "output_type": "display_data"
    },
    {
     "data": {
      "text/html": [
       "<html><script type=\"math/tex; mode=display\">\\newcommand{\\Bold}[1]{\\mathbf{#1}}\\left\\{f : {x}^{2}\\right\\}</script></html>"
      ],
      "text/plain": [
       "{f: x^2}"
      ]
     },
     "metadata": {},
     "output_type": "display_data"
    },
    {
     "data": {
      "text/html": [
       "<html><script type=\"math/tex; mode=display\">\\newcommand{\\Bold}[1]{\\mathbf{#1}}2 \\, {\\mathrm{d}x} {x}</script></html>"
      ],
      "text/plain": [
       "2*dx*x"
      ]
     },
     "metadata": {},
     "output_type": "display_data"
    },
    {
     "name": "stdout",
     "output_type": "stream",
     "text": [
      "PoblanoExpr: ( f : {x}^{2} ( nonconstant))\n"
     ]
    },
    {
     "data": {
      "text/html": [
       "<html><script type=\"math/tex; mode=display\">\\newcommand{\\Bold}[1]{\\mathbf{#1}}\\mathrm{False}</script></html>"
      ],
      "text/plain": [
       "False"
      ]
     },
     "metadata": {},
     "output_type": "display_data"
    }
   ],
   "source": [
    "f = r.fxn('f', x ** 2)\n",
    "\n",
    "show(f.symbol)\n",
    "show(f.value)\n",
    "show(f.dict)\n",
    "show(f.total_diff)\n",
    "\n",
    "print(f)\n",
    "show(f.is_constant())"
   ]
  },
  {
   "cell_type": "markdown",
   "metadata": {},
   "source": [
    "#### Hiding nasty values and derivatives\n",
    "\n",
    "A key capability of `PoblanoExpression` objects is that we can specify the total differential independently of the value, as below (in fact one can specify a differential without giving a value at all).\n",
    "\n",
    "Here we make two Sage variables, `g_x` and `g_y`, which are the partial derivatives of `g` with respect to `x` and `y`.\n",
    "We do this to avoid letting Sage go berserk computing the nasty derivatives of the value of `g`, which is a nontrivial expression."
   ]
  },
  {
   "cell_type": "code",
   "execution_count": 5,
   "metadata": {
    "collapsed": false
   },
   "outputs": [
    {
     "data": {
      "text/html": [
       "<html><script type=\"math/tex; mode=display\">\\newcommand{\\Bold}[1]{\\mathbf{#1}}g</script></html>"
      ],
      "text/plain": [
       "g"
      ]
     },
     "metadata": {},
     "output_type": "display_data"
    },
    {
     "data": {
      "text/html": [
       "<html><script type=\"math/tex; mode=display\">\\newcommand{\\Bold}[1]{\\mathbf{#1}}e^{\\left(\\tanh\\left({x} + \\cos\\left({\\mathsf{Y}}\\right)\\right)^{a + {x}}\\right)}</script></html>"
      ],
      "text/plain": [
       "e^(tanh(x + cos(y))^(a + x))"
      ]
     },
     "metadata": {},
     "output_type": "display_data"
    },
    {
     "data": {
      "text/html": [
       "<html><script type=\"math/tex; mode=display\">\\newcommand{\\Bold}[1]{\\mathbf{#1}}\\left\\{g : e^{\\left(\\tanh\\left({x} + \\cos\\left({\\mathsf{Y}}\\right)\\right)^{a + {x}}\\right)}\\right\\}</script></html>"
      ],
      "text/plain": [
       "{g: e^(tanh(x + cos(y))^(a + x))}"
      ]
     },
     "metadata": {},
     "output_type": "display_data"
    },
    {
     "data": {
      "text/html": [
       "<html><script type=\"math/tex; mode=display\">\\newcommand{\\Bold}[1]{\\mathbf{#1}}{\\mathrm{d}x} g_{x} + {\\mathrm{d}y} g_{y}</script></html>"
      ],
      "text/plain": [
       "dx*g_x + dy*g_y"
      ]
     },
     "metadata": {},
     "output_type": "display_data"
    },
    {
     "name": "stdout",
     "output_type": "stream",
     "text": [
      "PoblanoExpr: ( g : e^{\\left(\\tanh\\left({x} + \\cos\\left({\\mathsf{Y}}\\right)\\right)^{a + {x}}\\right)} ( nonconstant))\n"
     ]
    },
    {
     "data": {
      "text/html": [
       "<html><script type=\"math/tex; mode=display\">\\newcommand{\\Bold}[1]{\\mathbf{#1}}\\mathrm{False}</script></html>"
      ],
      "text/plain": [
       "False"
      ]
     },
     "metadata": {},
     "output_type": "display_data"
    }
   ],
   "source": [
    "dx = r.d(x)\n",
    "dy = r.d(y)\n",
    "\n",
    "var('g_x g_y')\n",
    "\n",
    "g = r.fxn('g', value=exp(tanh(x + cos(y)) ** (a + x)), total_diff=g_x * dx + g_y * dy)\n",
    "\n",
    "show(g.symbol)\n",
    "show(g.value)\n",
    "show(g.dict)\n",
    "show(g.total_diff)\n",
    "\n",
    "print(g)\n",
    "show(g.is_constant())"
   ]
  },
  {
   "cell_type": "markdown",
   "metadata": {},
   "source": [
    "Below we show that a `PoblanoExpression` is always represented by its symbol (in particular, note `g` in this case), which yields dramatically simpler results when one asks Sage to simplify an expression, which can easily produce unwieldly expressions.\n",
    "This occurs below when we ask Sage to simplify the expression.\n",
    "When the complicated value of `g` is 'hidden' behind the symbol, thanks to it being a `PoblanoExpression`, the expression is nice and simple.\n",
    "On the other hand, when the full value of the expression is used, the expression becomes practically useless.\n",
    "\n",
    "Next we'll demonstrate how nice it is to 'hide' nasty derivatives too."
   ]
  },
  {
   "cell_type": "code",
   "execution_count": 6,
   "metadata": {
    "collapsed": false
   },
   "outputs": [
    {
     "data": {
      "text/html": [
       "<html><script type=\"math/tex; mode=display\">\\newcommand{\\Bold}[1]{\\mathbf{#1}}a e^{\\left(g^{2}\\right)} + f</script></html>"
      ],
      "text/plain": [
       "a*e^(g^2) + f"
      ]
     },
     "metadata": {},
     "output_type": "display_data"
    },
    {
     "data": {
      "text/html": [
       "<html><script type=\"math/tex; mode=display\">\\newcommand{\\Bold}[1]{\\mathbf{#1}}a e^{\\left(2 \\, e^{\\left(\\left(\\frac{\\cosh\\left(\\cos\\left({\\mathsf{Y}}\\right)\\right) \\sinh\\left({x}\\right) + \\cosh\\left({x}\\right) \\sinh\\left(\\cos\\left({\\mathsf{Y}}\\right)\\right)}{\\cosh\\left({x}\\right) \\cosh\\left(\\cos\\left({\\mathsf{Y}}\\right)\\right) + \\sinh\\left({x}\\right) \\sinh\\left(\\cos\\left({\\mathsf{Y}}\\right)\\right)}\\right)^{a + {x}}\\right)}\\right)} + f</script></html>"
      ],
      "text/plain": [
       "a*e^(2*e^(((cosh(cos(y))*sinh(x) + cosh(x)*sinh(cos(y)))/(cosh(x)*cosh(cos(y)) + sinh(x)*sinh(cos(y))))^(a + x))) + f"
      ]
     },
     "metadata": {},
     "output_type": "display_data"
    }
   ],
   "source": [
    "show((f + a * exp(g ** 2)).simplify_full())\n",
    "show((f + a * exp(g.value) ** 2).simplify_full())"
   ]
  },
  {
   "cell_type": "markdown",
   "metadata": {},
   "source": [
    "### Time to calculate derivatives\n",
    "\n",
    "To calculate derivatives of expressions involving `PoblanoExpression` objects, one should use the `diff` method of `r`."
   ]
  },
  {
   "cell_type": "code",
   "execution_count": 7,
   "metadata": {
    "collapsed": false
   },
   "outputs": [
    {
     "data": {
      "text/html": [
       "<html><script type=\"math/tex; mode=display\">\\newcommand{\\Bold}[1]{\\mathbf{#1}}2 \\, {x}</script></html>"
      ],
      "text/plain": [
       "2*x"
      ]
     },
     "metadata": {},
     "output_type": "display_data"
    },
    {
     "data": {
      "text/html": [
       "<html><script type=\"math/tex; mode=display\">\\newcommand{\\Bold}[1]{\\mathbf{#1}}0</script></html>"
      ],
      "text/plain": [
       "0"
      ]
     },
     "metadata": {},
     "output_type": "display_data"
    },
    {
     "data": {
      "text/html": [
       "<html><script type=\"math/tex; mode=display\">\\newcommand{\\Bold}[1]{\\mathbf{#1}}g_{x}</script></html>"
      ],
      "text/plain": [
       "g_x"
      ]
     },
     "metadata": {},
     "output_type": "display_data"
    },
    {
     "data": {
      "text/html": [
       "<html><script type=\"math/tex; mode=display\">\\newcommand{\\Bold}[1]{\\mathbf{#1}}g_{y}</script></html>"
      ],
      "text/plain": [
       "g_y"
      ]
     },
     "metadata": {},
     "output_type": "display_data"
    }
   ],
   "source": [
    "show(r.diff(f, x))\n",
    "show(r.diff(f, y))\n",
    "\n",
    "show(r.diff(g, x))\n",
    "show(r.diff(g, y))"
   ]
  },
  {
   "cell_type": "markdown",
   "metadata": {},
   "source": [
    "We can build expressions of Sage and poblano expressions without special syntax (an exception is operators such as `cos(f)` or `exp(f)`, in which one must provide the symbol of a `PoblanoExpression`, e.g., `cos(f.symbol)`.).\n",
    "\n",
    "For instance, `a * g + f` is a valid expression, and note that `g_x` and `g_y` show up in the derivative of `g`."
   ]
  },
  {
   "cell_type": "code",
   "execution_count": 8,
   "metadata": {
    "collapsed": false
   },
   "outputs": [
    {
     "data": {
      "text/html": [
       "<html><script type=\"math/tex; mode=display\">\\newcommand{\\Bold}[1]{\\mathbf{#1}}a g_{x} + 2 \\, {x}</script></html>"
      ],
      "text/plain": [
       "a*g_x + 2*x"
      ]
     },
     "metadata": {},
     "output_type": "display_data"
    },
    {
     "data": {
      "text/html": [
       "<html><script type=\"math/tex; mode=display\">\\newcommand{\\Bold}[1]{\\mathbf{#1}}a g_{y}</script></html>"
      ],
      "text/plain": [
       "a*g_y"
      ]
     },
     "metadata": {},
     "output_type": "display_data"
    }
   ],
   "source": [
    "show(r.diff(a * g + f, x))\n",
    "show(r.diff(a * g + f, y))"
   ]
  },
  {
   "cell_type": "markdown",
   "metadata": {},
   "source": [
    "We can go further with this, chaining arbitrary expressions."
   ]
  },
  {
   "cell_type": "code",
   "execution_count": 9,
   "metadata": {
    "collapsed": false
   },
   "outputs": [
    {
     "data": {
      "text/html": [
       "<html><script type=\"math/tex; mode=display\">\\newcommand{\\Bold}[1]{\\mathbf{#1}}-\\frac{f g_{x} + 2 \\, {\\left(a g^{2} \\sin\\left(a f\\right) - g\\right)} {x}}{g^{2}}</script></html>"
      ],
      "text/plain": [
       "-(f*g_x + 2*(a*g^2*sin(a*f) - g)*x)/g^2"
      ]
     },
     "metadata": {},
     "output_type": "display_data"
    },
    {
     "data": {
      "text/html": [
       "<html><script type=\"math/tex; mode=display\">\\newcommand{\\Bold}[1]{\\mathbf{#1}}-\\frac{f g_{y}}{g^{2}}</script></html>"
      ],
      "text/plain": [
       "-f*g_y/g^2"
      ]
     },
     "metadata": {},
     "output_type": "display_data"
    }
   ],
   "source": [
    "show((r.diff(f / g + cos(a * f), x)).simplify_full())\n",
    "show((r.diff(f / g + cos(a * f), y)).simplify_full())"
   ]
  },
  {
   "cell_type": "markdown",
   "metadata": {},
   "source": [
    "Compare this to the derivative if we use the value of `g` without hiding the differentials behind `g_x` and `g_y`.\n",
    "\n",
    "The results obtained without 'hiding' the differentials are entirely unclear."
   ]
  },
  {
   "cell_type": "code",
   "execution_count": 10,
   "metadata": {
    "collapsed": false
   },
   "outputs": [
    {
     "data": {
      "text/html": [
       "<html><script type=\"math/tex; mode=display\">\\newcommand{\\Bold}[1]{\\mathbf{#1}}\\frac{2 \\, a {x} \\cosh\\left({x}\\right) e^{\\left(\\left(\\frac{\\cosh\\left(\\cos\\left({\\mathsf{Y}}\\right)\\right) \\sinh\\left({x}\\right) + \\cosh\\left({x}\\right) \\sinh\\left(\\cos\\left({\\mathsf{Y}}\\right)\\right)}{\\cosh\\left({x}\\right) \\cosh\\left(\\cos\\left({\\mathsf{Y}}\\right)\\right) + \\sinh\\left({x}\\right) \\sinh\\left(\\cos\\left({\\mathsf{Y}}\\right)\\right)}\\right)^{a + {x}}\\right)} \\sin\\left(a f\\right) \\sinh\\left({x}\\right) - 4 \\, {\\left(a {x} \\cosh\\left({x}\\right) e^{\\left(\\left(\\frac{\\cosh\\left(\\cos\\left({\\mathsf{Y}}\\right)\\right) \\sinh\\left({x}\\right) + \\cosh\\left({x}\\right) \\sinh\\left(\\cos\\left({\\mathsf{Y}}\\right)\\right)}{\\cosh\\left({x}\\right) \\cosh\\left(\\cos\\left({\\mathsf{Y}}\\right)\\right) + \\sinh\\left({x}\\right) \\sinh\\left(\\cos\\left({\\mathsf{Y}}\\right)\\right)}\\right)^{a + {x}}\\right)} \\sin\\left(a f\\right) \\sinh\\left({x}\\right) - {x} \\cosh\\left({x}\\right) \\sinh\\left({x}\\right)\\right)} \\cosh\\left(\\cos\\left({\\mathsf{Y}}\\right)\\right)^{2} - {\\left(2 \\, f \\cosh\\left({x}\\right) \\cosh\\left(\\cos\\left({\\mathsf{Y}}\\right)\\right)^{2} \\sinh\\left({x}\\right) - f \\cosh\\left({x}\\right) \\sinh\\left({x}\\right) + {\\left(2 \\, f \\cosh\\left({x}\\right)^{2} - f\\right)} \\cosh\\left(\\cos\\left({\\mathsf{Y}}\\right)\\right) \\sinh\\left(\\cos\\left({\\mathsf{Y}}\\right)\\right)\\right)} \\left(\\frac{\\cosh\\left(\\cos\\left({\\mathsf{Y}}\\right)\\right) \\sinh\\left({x}\\right) + \\cosh\\left({x}\\right) \\sinh\\left(\\cos\\left({\\mathsf{Y}}\\right)\\right)}{\\cosh\\left({x}\\right) \\cosh\\left(\\cos\\left({\\mathsf{Y}}\\right)\\right) + \\sinh\\left({x}\\right) \\sinh\\left(\\cos\\left({\\mathsf{Y}}\\right)\\right)}\\right)^{a + {x}} \\log\\left(\\frac{\\cosh\\left(\\cos\\left({\\mathsf{Y}}\\right)\\right) \\sinh\\left({x}\\right) + \\cosh\\left({x}\\right) \\sinh\\left(\\cos\\left({\\mathsf{Y}}\\right)\\right)}{\\cosh\\left({x}\\right) \\cosh\\left(\\cos\\left({\\mathsf{Y}}\\right)\\right) + \\sinh\\left({x}\\right) \\sinh\\left(\\cos\\left({\\mathsf{Y}}\\right)\\right)}\\right) - 2 \\, {x} \\cosh\\left({x}\\right) \\sinh\\left({x}\\right) + 2 \\, {\\left(2 \\, {x} \\cosh\\left({x}\\right)^{2} - {\\left(2 \\, a {x} \\cosh\\left({x}\\right)^{2} \\sin\\left(a f\\right) - a {x} \\sin\\left(a f\\right)\\right)} e^{\\left(\\left(\\frac{\\cosh\\left(\\cos\\left({\\mathsf{Y}}\\right)\\right) \\sinh\\left({x}\\right) + \\cosh\\left({x}\\right) \\sinh\\left(\\cos\\left({\\mathsf{Y}}\\right)\\right)}{\\cosh\\left({x}\\right) \\cosh\\left(\\cos\\left({\\mathsf{Y}}\\right)\\right) + \\sinh\\left({x}\\right) \\sinh\\left(\\cos\\left({\\mathsf{Y}}\\right)\\right)}\\right)^{a + {x}}\\right)} - {x}\\right)} \\cosh\\left(\\cos\\left({\\mathsf{Y}}\\right)\\right) \\sinh\\left(\\cos\\left({\\mathsf{Y}}\\right)\\right) - {\\left(a f + f {x}\\right)} \\left(\\frac{\\cosh\\left(\\cos\\left({\\mathsf{Y}}\\right)\\right) \\sinh\\left({x}\\right) + \\cosh\\left({x}\\right) \\sinh\\left(\\cos\\left({\\mathsf{Y}}\\right)\\right)}{\\cosh\\left({x}\\right) \\cosh\\left(\\cos\\left({\\mathsf{Y}}\\right)\\right) + \\sinh\\left({x}\\right) \\sinh\\left(\\cos\\left({\\mathsf{Y}}\\right)\\right)}\\right)^{a + {x}}}{2 \\, \\cosh\\left({x}\\right) e^{\\left(\\left(\\frac{\\cosh\\left(\\cos\\left({\\mathsf{Y}}\\right)\\right) \\sinh\\left({x}\\right) + \\cosh\\left({x}\\right) \\sinh\\left(\\cos\\left({\\mathsf{Y}}\\right)\\right)}{\\cosh\\left({x}\\right) \\cosh\\left(\\cos\\left({\\mathsf{Y}}\\right)\\right) + \\sinh\\left({x}\\right) \\sinh\\left(\\cos\\left({\\mathsf{Y}}\\right)\\right)}\\right)^{a + {x}}\\right)} \\sinh\\left({x}\\right) \\sinh\\left(\\cos\\left({\\mathsf{Y}}\\right)\\right)^{2} + {\\left(2 \\, \\sinh\\left({x}\\right)^{2} + 1\\right)} \\cosh\\left(\\cos\\left({\\mathsf{Y}}\\right)\\right) e^{\\left(\\left(\\frac{\\cosh\\left(\\cos\\left({\\mathsf{Y}}\\right)\\right) \\sinh\\left({x}\\right) + \\cosh\\left({x}\\right) \\sinh\\left(\\cos\\left({\\mathsf{Y}}\\right)\\right)}{\\cosh\\left({x}\\right) \\cosh\\left(\\cos\\left({\\mathsf{Y}}\\right)\\right) + \\sinh\\left({x}\\right) \\sinh\\left(\\cos\\left({\\mathsf{Y}}\\right)\\right)}\\right)^{a + {x}}\\right)} \\sinh\\left(\\cos\\left({\\mathsf{Y}}\\right)\\right) + \\cosh\\left({x}\\right) e^{\\left(\\left(\\frac{\\cosh\\left(\\cos\\left({\\mathsf{Y}}\\right)\\right) \\sinh\\left({x}\\right) + \\cosh\\left({x}\\right) \\sinh\\left(\\cos\\left({\\mathsf{Y}}\\right)\\right)}{\\cosh\\left({x}\\right) \\cosh\\left(\\cos\\left({\\mathsf{Y}}\\right)\\right) + \\sinh\\left({x}\\right) \\sinh\\left(\\cos\\left({\\mathsf{Y}}\\right)\\right)}\\right)^{a + {x}}\\right)} \\sinh\\left({x}\\right)}</script></html>"
      ],
      "text/plain": [
       "(2*a*x*cosh(x)*e^(((cosh(cos(y))*sinh(x) + cosh(x)*sinh(cos(y)))/(cosh(x)*cosh(cos(y)) + sinh(x)*sinh(cos(y))))^(a + x))*sin(a*f)*sinh(x) - 4*(a*x*cosh(x)*e^(((cosh(cos(y))*sinh(x) + cosh(x)*sinh(cos(y)))/(cosh(x)*cosh(cos(y)) + sinh(x)*sinh(cos(y))))^(a + x))*sin(a*f)*sinh(x) - x*cosh(x)*sinh(x))*cosh(cos(y))^2 - (2*f*cosh(x)*cosh(cos(y))^2*sinh(x) - f*cosh(x)*sinh(x) + (2*f*cosh(x)^2 - f)*cosh(cos(y))*sinh(cos(y)))*((cosh(cos(y))*sinh(x) + cosh(x)*sinh(cos(y)))/(cosh(x)*cosh(cos(y)) + sinh(x)*sinh(cos(y))))^(a + x)*log((cosh(cos(y))*sinh(x) + cosh(x)*sinh(cos(y)))/(cosh(x)*cosh(cos(y)) + sinh(x)*sinh(cos(y)))) - 2*x*cosh(x)*sinh(x) + 2*(2*x*cosh(x)^2 - (2*a*x*cosh(x)^2*sin(a*f) - a*x*sin(a*f))*e^(((cosh(cos(y))*sinh(x) + cosh(x)*sinh(cos(y)))/(cosh(x)*cosh(cos(y)) + sinh(x)*sinh(cos(y))))^(a + x)) - x)*cosh(cos(y))*sinh(cos(y)) - (a*f + f*x)*((cosh(cos(y))*sinh(x) + cosh(x)*sinh(cos(y)))/(cosh(x)*cosh(cos(y)) + sinh(x)*sinh(cos(y))))^(a + x))/(2*cosh(x)*e^(((cosh(cos(y))*sinh(x) + cosh(x)*sinh(cos(y)))/(cosh(x)*cosh(cos(y)) + sinh(x)*sinh(cos(y))))^(a + x))*sinh(x)*sinh(cos(y))^2 + (2*sinh(x)^2 + 1)*cosh(cos(y))*e^(((cosh(cos(y))*sinh(x) + cosh(x)*sinh(cos(y)))/(cosh(x)*cosh(cos(y)) + sinh(x)*sinh(cos(y))))^(a + x))*sinh(cos(y)) + cosh(x)*e^(((cosh(cos(y))*sinh(x) + cosh(x)*sinh(cos(y)))/(cosh(x)*cosh(cos(y)) + sinh(x)*sinh(cos(y))))^(a + x))*sinh(x))"
      ]
     },
     "metadata": {},
     "output_type": "display_data"
    },
    {
     "data": {
      "text/html": [
       "<html><script type=\"math/tex; mode=display\">\\newcommand{\\Bold}[1]{\\mathbf{#1}}\\frac{{\\left(a f + f {x}\\right)} \\left(\\frac{\\cosh\\left(\\cos\\left({\\mathsf{Y}}\\right)\\right) \\sinh\\left({x}\\right) + \\cosh\\left({x}\\right) \\sinh\\left(\\cos\\left({\\mathsf{Y}}\\right)\\right)}{\\cosh\\left({x}\\right) \\cosh\\left(\\cos\\left({\\mathsf{Y}}\\right)\\right) + \\sinh\\left({x}\\right) \\sinh\\left(\\cos\\left({\\mathsf{Y}}\\right)\\right)}\\right)^{a + {x}} \\sin\\left({\\mathsf{Y}}\\right)}{2 \\, \\cosh\\left({x}\\right) e^{\\left(\\left(\\frac{\\cosh\\left(\\cos\\left({\\mathsf{Y}}\\right)\\right) \\sinh\\left({x}\\right) + \\cosh\\left({x}\\right) \\sinh\\left(\\cos\\left({\\mathsf{Y}}\\right)\\right)}{\\cosh\\left({x}\\right) \\cosh\\left(\\cos\\left({\\mathsf{Y}}\\right)\\right) + \\sinh\\left({x}\\right) \\sinh\\left(\\cos\\left({\\mathsf{Y}}\\right)\\right)}\\right)^{a + {x}}\\right)} \\sinh\\left({x}\\right) \\sinh\\left(\\cos\\left({\\mathsf{Y}}\\right)\\right)^{2} + {\\left(2 \\, \\sinh\\left({x}\\right)^{2} + 1\\right)} \\cosh\\left(\\cos\\left({\\mathsf{Y}}\\right)\\right) e^{\\left(\\left(\\frac{\\cosh\\left(\\cos\\left({\\mathsf{Y}}\\right)\\right) \\sinh\\left({x}\\right) + \\cosh\\left({x}\\right) \\sinh\\left(\\cos\\left({\\mathsf{Y}}\\right)\\right)}{\\cosh\\left({x}\\right) \\cosh\\left(\\cos\\left({\\mathsf{Y}}\\right)\\right) + \\sinh\\left({x}\\right) \\sinh\\left(\\cos\\left({\\mathsf{Y}}\\right)\\right)}\\right)^{a + {x}}\\right)} \\sinh\\left(\\cos\\left({\\mathsf{Y}}\\right)\\right) + \\cosh\\left({x}\\right) e^{\\left(\\left(\\frac{\\cosh\\left(\\cos\\left({\\mathsf{Y}}\\right)\\right) \\sinh\\left({x}\\right) + \\cosh\\left({x}\\right) \\sinh\\left(\\cos\\left({\\mathsf{Y}}\\right)\\right)}{\\cosh\\left({x}\\right) \\cosh\\left(\\cos\\left({\\mathsf{Y}}\\right)\\right) + \\sinh\\left({x}\\right) \\sinh\\left(\\cos\\left({\\mathsf{Y}}\\right)\\right)}\\right)^{a + {x}}\\right)} \\sinh\\left({x}\\right)}</script></html>"
      ],
      "text/plain": [
       "(a*f + f*x)*((cosh(cos(y))*sinh(x) + cosh(x)*sinh(cos(y)))/(cosh(x)*cosh(cos(y)) + sinh(x)*sinh(cos(y))))^(a + x)*sin(y)/(2*cosh(x)*e^(((cosh(cos(y))*sinh(x) + cosh(x)*sinh(cos(y)))/(cosh(x)*cosh(cos(y)) + sinh(x)*sinh(cos(y))))^(a + x))*sinh(x)*sinh(cos(y))^2 + (2*sinh(x)^2 + 1)*cosh(cos(y))*e^(((cosh(cos(y))*sinh(x) + cosh(x)*sinh(cos(y)))/(cosh(x)*cosh(cos(y)) + sinh(x)*sinh(cos(y))))^(a + x))*sinh(cos(y)) + cosh(x)*e^(((cosh(cos(y))*sinh(x) + cosh(x)*sinh(cos(y)))/(cosh(x)*cosh(cos(y)) + sinh(x)*sinh(cos(y))))^(a + x))*sinh(x))"
      ]
     },
     "metadata": {},
     "output_type": "display_data"
    }
   ],
   "source": [
    "show((r.diff(f / g.value + cos(a * f), x)).simplify_full())\n",
    "show((r.diff(f / g.value + cos(a * f), y)).simplify_full())"
   ]
  },
  {
   "cell_type": "markdown",
   "metadata": {},
   "source": [
    "If you now want to take the clear result with `g_x` and `g_y` and substitute the actual derivatives, simply substitute the differentiated _value_ of `g`:"
   ]
  },
  {
   "cell_type": "code",
   "execution_count": 11,
   "metadata": {
    "collapsed": false
   },
   "outputs": [
    {
     "data": {
      "text/html": [
       "<html><script type=\"math/tex; mode=display\">\\newcommand{\\Bold}[1]{\\mathbf{#1}}-2 \\, {\\left(a \\sin\\left(a f\\right) - \\frac{1}{g}\\right)} {x} + \\frac{f \\tanh\\left({x} + \\cos\\left({\\mathsf{Y}}\\right)\\right)^{a + {x}} {\\left(\\frac{{\\left(\\tanh\\left({x} + \\cos\\left({\\mathsf{Y}}\\right)\\right)^{2} - 1\\right)} {\\left(a + {x}\\right)}}{\\tanh\\left({x} + \\cos\\left({\\mathsf{Y}}\\right)\\right)} - \\log\\left(\\tanh\\left({x} + \\cos\\left({\\mathsf{Y}}\\right)\\right)\\right)\\right)} e^{\\left(\\tanh\\left({x} + \\cos\\left({\\mathsf{Y}}\\right)\\right)^{a + {x}}\\right)}}{g^{2}}</script></html>"
      ],
      "text/plain": [
       "-2*(a*sin(a*f) - 1/g)*x + f*tanh(x + cos(y))^(a + x)*((tanh(x + cos(y))^2 - 1)*(a + x)/tanh(x + cos(y)) - log(tanh(x + cos(y))))*e^(tanh(x + cos(y))^(a + x))/g^2"
      ]
     },
     "metadata": {},
     "output_type": "display_data"
    },
    {
     "data": {
      "text/html": [
       "<html><script type=\"math/tex; mode=display\">\\newcommand{\\Bold}[1]{\\mathbf{#1}}-\\frac{{\\left(\\tanh\\left({x} + \\cos\\left({\\mathsf{Y}}\\right)\\right)^{2} - 1\\right)} {\\left(a + {x}\\right)} f \\tanh\\left({x} + \\cos\\left({\\mathsf{Y}}\\right)\\right)^{a + {x} - 1} e^{\\left(\\tanh\\left({x} + \\cos\\left({\\mathsf{Y}}\\right)\\right)^{a + {x}}\\right)} \\sin\\left({\\mathsf{Y}}\\right)}{g^{2}}</script></html>"
      ],
      "text/plain": [
       "-(tanh(x + cos(y))^2 - 1)*(a + x)*f*tanh(x + cos(y))^(a + x - 1)*e^(tanh(x + cos(y))^(a + x))*sin(y)/g^2"
      ]
     },
     "metadata": {},
     "output_type": "display_data"
    }
   ],
   "source": [
    "show(r.diff(f / g + cos(a * f), x).subs(g_x=r.diff(g.value, x)))\n",
    "show(r.diff(f / g + cos(a * f), y).subs(g_y=r.diff(g.value, y)))"
   ]
  },
  {
   "cell_type": "markdown",
   "metadata": {},
   "source": [
    "Or better yet, simply print out the actual values of `g_x` and `g_y` next to the simple expressions:"
   ]
  },
  {
   "cell_type": "code",
   "execution_count": 12,
   "metadata": {
    "collapsed": false
   },
   "outputs": [
    {
     "data": {
      "text/html": [
       "<html><script type=\"math/tex; mode=display\">\\newcommand{\\Bold}[1]{\\mathbf{#1}}-2 \\, {\\left(a \\sin\\left(a f\\right) - \\frac{1}{g}\\right)} {x} - \\frac{f g_{x}}{g^{2}}</script></html>"
      ],
      "text/plain": [
       "-2*(a*sin(a*f) - 1/g)*x - f*g_x/g^2"
      ]
     },
     "metadata": {},
     "output_type": "display_data"
    },
    {
     "data": {
      "text/html": [
       "<html><script type=\"math/tex; mode=display\">\\newcommand{\\Bold}[1]{\\mathbf{#1}}-\\frac{f g_{y}}{g^{2}}</script></html>"
      ],
      "text/plain": [
       "-f*g_y/g^2"
      ]
     },
     "metadata": {},
     "output_type": "display_data"
    },
    {
     "data": {
      "text/html": [
       "<html><script type=\"math/tex; mode=display\">\\newcommand{\\Bold}[1]{\\mathbf{#1}}g_{x} = -\\tanh\\left({x} + \\cos\\left({\\mathsf{Y}}\\right)\\right)^{a + {x}} {\\left(\\frac{{\\left(\\tanh\\left({x} + \\cos\\left({\\mathsf{Y}}\\right)\\right)^{2} - 1\\right)} {\\left(a + {x}\\right)}}{\\tanh\\left({x} + \\cos\\left({\\mathsf{Y}}\\right)\\right)} - \\log\\left(\\tanh\\left({x} + \\cos\\left({\\mathsf{Y}}\\right)\\right)\\right)\\right)} e^{\\left(\\tanh\\left({x} + \\cos\\left({\\mathsf{Y}}\\right)\\right)^{a + {x}}\\right)}</script></html>"
      ],
      "text/plain": [
       "g_x == -tanh(x + cos(y))^(a + x)*((tanh(x + cos(y))^2 - 1)*(a + x)/tanh(x + cos(y)) - log(tanh(x + cos(y))))*e^(tanh(x + cos(y))^(a + x))"
      ]
     },
     "metadata": {},
     "output_type": "display_data"
    },
    {
     "data": {
      "text/html": [
       "<html><script type=\"math/tex; mode=display\">\\newcommand{\\Bold}[1]{\\mathbf{#1}}g_{y} = {\\left(\\tanh\\left({x} + \\cos\\left({\\mathsf{Y}}\\right)\\right)^{2} - 1\\right)} {\\left(a + {x}\\right)} \\tanh\\left({x} + \\cos\\left({\\mathsf{Y}}\\right)\\right)^{a + {x} - 1} e^{\\left(\\tanh\\left({x} + \\cos\\left({\\mathsf{Y}}\\right)\\right)^{a + {x}}\\right)} \\sin\\left({\\mathsf{Y}}\\right)</script></html>"
      ],
      "text/plain": [
       "g_y == (tanh(x + cos(y))^2 - 1)*(a + x)*tanh(x + cos(y))^(a + x - 1)*e^(tanh(x + cos(y))^(a + x))*sin(y)"
      ]
     },
     "metadata": {},
     "output_type": "display_data"
    }
   ],
   "source": [
    "show(r.diff(f / g + cos(a * f), x))\n",
    "show(r.diff(f / g + cos(a * f), y))\n",
    "show(g_x == r.diff(g.value, x))\n",
    "show(g_y == r.diff(g.value, y))"
   ]
  },
  {
   "cell_type": "code",
   "execution_count": null,
   "metadata": {
    "collapsed": true
   },
   "outputs": [],
   "source": []
  },
  {
   "cell_type": "code",
   "execution_count": null,
   "metadata": {
    "collapsed": true
   },
   "outputs": [],
   "source": []
  }
 ],
 "metadata": {
  "kernelspec": {
   "display_name": "SageMath 7.6",
   "language": "",
   "name": "sagemath"
  },
  "language_info": {
   "codemirror_mode": {
    "name": "ipython",
    "version": 2
   },
   "file_extension": ".py",
   "mimetype": "text/x-python",
   "name": "python",
   "nbconvert_exporter": "python",
   "pygments_lexer": "ipython2",
   "version": "2.7.13"
  }
 },
 "nbformat": 4,
 "nbformat_minor": 2
}
